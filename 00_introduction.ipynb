{
 "cells": [
  {
   "cell_type": "markdown",
   "metadata": {},
   "source": [
    "# IfcOpenShell Scripting Tutorial \n",
    "### Preface and introduction\n",
    "On these pages small snippets of code are presented that help you to automate tasks working with Industry Foundation Classes models. It is targeted at *building domain experts* (architects, civil engineers etc.) who have little or no background knowledge in coding. \n",
    "It uses the [IfcOpenShell](http://ifcopenshell.org) toolkit by Thomas Krijnen. In particular, an interactive viewer is used that allows for quick feedback between the interactions of the scripts with the model by visualizing the results. \n",
    "\n",
    "A regular Python tutorial is strongly recommended. There are many excellent, free resources on the web:\n",
    "  - [The brief Python.org tutorial](https://docs.python.org/3/tutorial/)\n",
    "  - [A byte into Python](https://python.swaroopch.com/)\n",
    "  - An interactive tutorial can be found on [The Code Academy](https://www.codecademy.com/learn/python)\n",
    "\n",
    "For further examples and documentation of processing IFC files with IfcOpenShell, also refer to the __[Academy.ifceopenshell.org](http://academy.ifcopenshell.org/)__\n",
    "\n",
    "If you are looking for __challenges__ to sharpen your skills, here is what students were asked to complete as part of their coursework. :\n",
    "\n",
    "  1. Mark all external walls of the Duplex_A_20110907.ifc model red\n",
    "  2. Export all area quantities of the Duplex model to a CSV and open it in Excel\n",
    "  3. Attach properties to objects (by selection or using all instances of a certain ENTITY (IfcDoor, IfcWall etc.)). Read these properties from a CSV files, that you could e.g. create in Excel\n",
    "\n",
    "Please feel free to provide feedback and comments. \n"
   ]
  },
  {
   "cell_type": "markdown",
   "metadata": {},
   "source": [
    "If this is the first time you are looking at Python scripting, you might want to __start with [01_python.ipynb](./01_python.ipynb)__\n",
    "\n",
    "\n"
   ]
  },
  {
   "cell_type": "markdown",
   "metadata": {},
   "source": [
    "If you are familiar with Python and are intrested in IFC and IfcOpenShell, you might want to __go to  [04_hello_ifc.ipynb](./04_hello_ifc.ipynb)__"
   ]
  }
 ],
 "metadata": {
  "kernelspec": {
   "display_name": "Python 3.10.6 64-bit",
   "language": "python",
   "name": "python3"
  },
  "language_info": {
   "codemirror_mode": {
    "name": "ipython",
    "version": 3
   },
   "file_extension": ".py",
   "mimetype": "text/x-python",
   "name": "python",
   "nbconvert_exporter": "python",
   "pygments_lexer": "ipython3",
   "version": "3.10.6"
  },
  "vscode": {
   "interpreter": {
    "hash": "5b9757e1fd56148ee0e0fb9051a8b94223b28e388216e668ac3a3cb746504a5c"
   }
  }
 },
 "nbformat": 4,
 "nbformat_minor": 4
}
