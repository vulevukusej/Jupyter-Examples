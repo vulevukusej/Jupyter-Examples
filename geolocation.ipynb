{
 "cells": [
  {
   "cell_type": "markdown",
   "metadata": {},
   "source": [
    "## IFC Coordinate Reference Systems\n",
    "\n",
    "The following document attempts to provide a visual enhancement of the original blog written by **Dion Moult**: (https://thinkmoult.com/ifc-coordinate-reference-systems-and-revit.html).  \n",
    "\n",
    "In addition, users may find the accompanying code useful if they want to learn more about using *IfcOpenShell*.\n",
    "\n",
    "Special thanks to **Jakob Beetz** for his great work on the original ifcopenshell-notebooks, which can be found here: https://github.com/jakob-beetz/ifcopenshell-notebooks"
   ]
  },
  {
   "cell_type": "code",
   "execution_count": 1,
   "metadata": {},
   "outputs": [],
   "source": [
    "#First, lets import ifcopenshell and load our IFC file:\n",
    "import ifcopenshell\n",
    "file = ifcopenshell.open(\"data/ifc4 geolocation.ifc\")"
   ]
  },
  {
   "cell_type": "markdown",
   "metadata": {},
   "source": [
    "#### Coordinate systems defined by **IfcProject**:\n",
    "\n",
    "Let’s talk about what we want the results to be. According to the IFC specification, IfcProject provides the following information:\n",
    "\n",
    "- the project coordinate system\n",
    "- the coordinate space dimensions\n",
    "- the precision used within the geometric representations\n",
    "- (optionally) the indication of the true north\n",
    "- (optionally) the map conversion between the project coordinate system and the geospatial coordinate reference system.\n",
    "\n",
    "This information is provided using the **RepresentationContexts** relationship of the IfcProject. This relationship will contain one or more **IfcGeometricRepresentationContext** elements. Each will typically have a **CoordinateSpaceDimension** of 3, to show a 3D model, and the **Precision** attribute shows the model precision.\n",
    "\n",
    "Let's see how this is defined in the sample file:"
   ]
  },
  {
   "cell_type": "code",
   "execution_count": 2,
   "metadata": {},
   "outputs": [
    {
     "data": {
      "text/plain": [
       "{'id': 23,\n",
       " 'type': 'IfcProject',\n",
       " 'GlobalId': '0z0$6As99Fg8k_xxjb4gTX',\n",
       " 'OwnerHistory': None,\n",
       " 'Name': 'My Project',\n",
       " 'Description': None,\n",
       " 'ObjectType': None,\n",
       " 'LongName': None,\n",
       " 'Phase': None,\n",
       " 'RepresentationContexts': (#21=IfcGeometricRepresentationContext($,'Model',3,1.E-05,#17,$),),\n",
       " 'UnitsInContext': #4=IfcUnitAssignment((#1,#2,#3))}"
      ]
     },
     "execution_count": 2,
     "metadata": {},
     "output_type": "execute_result"
    }
   ],
   "source": [
    "project = file.by_type(\"IfcProject\")[0]\n",
    "\n",
    "# Let's look at the project attributes first:\n",
    "project.get_info()"
   ]
  },
  {
   "cell_type": "code",
   "execution_count": 3,
   "metadata": {},
   "outputs": [
    {
     "data": {
      "text/plain": [
       "{'id': 21,\n",
       " 'type': 'IfcGeometricRepresentationContext',\n",
       " 'ContextIdentifier': None,\n",
       " 'ContextType': 'Model',\n",
       " 'CoordinateSpaceDimension': 3,\n",
       " 'Precision': 1e-05,\n",
       " 'WorldCoordinateSystem': {'id': 17,\n",
       "  'type': 'IfcAxis2Placement3D',\n",
       "  'Location': {'id': 14,\n",
       "   'type': 'IfcCartesianPoint',\n",
       "   'Coordinates': (0.0, 0.0, 0.0)},\n",
       "  'Axis': {'id': 15,\n",
       "   'type': 'IfcDirection',\n",
       "   'DirectionRatios': (0.0, 0.0, 1.0)},\n",
       "  'RefDirection': {'id': 16,\n",
       "   'type': 'IfcDirection',\n",
       "   'DirectionRatios': (1.0, 0.0, 0.0)}},\n",
       " 'TrueNorth': None}"
      ]
     },
     "execution_count": 3,
     "metadata": {},
     "output_type": "execute_result"
    }
   ],
   "source": [
    "# And now specifically the RepresentationContext:\n",
    "project.RepresentationContexts[0].get_info(recursive=True)"
   ]
  },
  {
   "cell_type": "markdown",
   "metadata": {},
   "source": [
    "#### The WorldCoordinateSystem attribute\n",
    "If we dive deeper into **WorldCoordinateSystem** we can find out how the coordinate system for the virtual world is defined:\n",
    "\n",
    "Usually, this will be set to (0, 0, 0), and represents the origin of the virtual world. In other words, any element in a project usually inherit the local relative placement of its parent, all the way up to **IfcSite**, but somewhere, it needs to end in an absolute coordinate. This **WorldCoordinateSystem** is the final absolute coordinate that is not relative to anything else. It can therefore be used to offset everything in your project, should you want to. The **IfcMapConversion** we just described, will then be used to convert our virtual world into the real world."
   ]
  },
  {
   "cell_type": "code",
   "execution_count": 4,
   "metadata": {},
   "outputs": [
    {
     "data": {
      "image/svg+xml": "<?xml version=\"1.0\" encoding=\"UTF-8\" standalone=\"no\"?>\n<!DOCTYPE svg PUBLIC \"-//W3C//DTD SVG 1.1//EN\"\n \"http://www.w3.org/Graphics/SVG/1.1/DTD/svg11.dtd\">\n<!-- Generated by graphviz version 5.0.0 (20220707.1540)\n -->\n<!-- Pages: 1 -->\n<svg width=\"553pt\" height=\"152pt\"\n viewBox=\"0.00 0.00 553.00 152.00\" xmlns=\"http://www.w3.org/2000/svg\" xmlns:xlink=\"http://www.w3.org/1999/xlink\">\n<g id=\"graph0\" class=\"graph\" transform=\"scale(1 1) rotate(0) translate(4 148)\">\n<polygon fill=\"white\" stroke=\"transparent\" points=\"-4,4 -4,-148 549,-148 549,4 -4,4\"/>\n<!-- 14 -->\n<g id=\"node1\" class=\"node\">\n<title>14</title>\n<polygon fill=\"none\" stroke=\"black\" points=\"459,-108.5 459,-143.5 545,-143.5 545,-108.5 459,-108.5\"/>\n<text text-anchor=\"middle\" x=\"502\" y=\"-133.1\" font-family=\"Arial\" font-size=\"8.00\">#14 </text>\n<text text-anchor=\"middle\" x=\"502\" y=\"-124.1\" font-family=\"Arial\" font-size=\"8.00\">(IfcCartesianPoint) </text>\n</g>\n<!-- 17 -->\n<g id=\"node2\" class=\"node\">\n<title>17</title>\n<polygon fill=\"none\" stroke=\"black\" points=\"277,-54.5 277,-89.5 378,-89.5 378,-54.5 277,-54.5\"/>\n<text text-anchor=\"middle\" x=\"327.5\" y=\"-79.1\" font-family=\"Arial\" font-size=\"8.00\">#17 </text>\n<text text-anchor=\"middle\" x=\"327.5\" y=\"-70.1\" font-family=\"Arial\" font-size=\"8.00\">(IfcAxis2Placement3D) </text>\n</g>\n<!-- 17&#45;&gt;14 -->\n<g id=\"edge1\" class=\"edge\">\n<title>17&#45;&gt;14</title>\n<path fill=\"none\" stroke=\"black\" d=\"M378.39,-87.62C400.58,-94.57 426.7,-102.74 449.12,-109.76\"/>\n<polygon fill=\"black\" stroke=\"black\" points=\"448.21,-113.14 458.8,-112.79 450.3,-106.46 448.21,-113.14\"/>\n<text text-anchor=\"middle\" x=\"418.5\" y=\"-108.6\" font-family=\"Arial\" font-size=\"8.00\">Location</text>\n</g>\n<!-- 15 -->\n<g id=\"node3\" class=\"node\">\n<title>15</title>\n<polygon fill=\"none\" stroke=\"black\" points=\"466,-54.5 466,-89.5 538,-89.5 538,-54.5 466,-54.5\"/>\n<text text-anchor=\"middle\" x=\"502\" y=\"-79.1\" font-family=\"Arial\" font-size=\"8.00\">#15 </text>\n<text text-anchor=\"middle\" x=\"502\" y=\"-70.1\" font-family=\"Arial\" font-size=\"8.00\">(IfcDirection) </text>\n</g>\n<!-- 17&#45;&gt;15 -->\n<g id=\"edge2\" class=\"edge\">\n<title>17&#45;&gt;15</title>\n<path fill=\"none\" stroke=\"black\" d=\"M378.39,-72C402.84,-72 432.05,-72 455.83,-72\"/>\n<polygon fill=\"black\" stroke=\"black\" points=\"455.99,-75.5 465.99,-72 455.99,-68.5 455.99,-75.5\"/>\n<text text-anchor=\"middle\" x=\"418.5\" y=\"-74.6\" font-family=\"Arial\" font-size=\"8.00\">Axis</text>\n</g>\n<!-- 16 -->\n<g id=\"node4\" class=\"node\">\n<title>16</title>\n<polygon fill=\"none\" stroke=\"black\" points=\"466,-0.5 466,-35.5 538,-35.5 538,-0.5 466,-0.5\"/>\n<text text-anchor=\"middle\" x=\"502\" y=\"-25.1\" font-family=\"Arial\" font-size=\"8.00\">#16 </text>\n<text text-anchor=\"middle\" x=\"502\" y=\"-16.1\" font-family=\"Arial\" font-size=\"8.00\">(IfcDirection) </text>\n</g>\n<!-- 17&#45;&gt;16 -->\n<g id=\"edge3\" class=\"edge\">\n<title>17&#45;&gt;16</title>\n<path fill=\"none\" stroke=\"black\" d=\"M378.39,-56.38C402.95,-48.69 432.31,-39.5 456.15,-32.04\"/>\n<polygon fill=\"black\" stroke=\"black\" points=\"457.49,-35.29 465.99,-28.96 455.4,-28.61 457.49,-35.29\"/>\n<text text-anchor=\"middle\" x=\"418.5\" y=\"-52.6\" font-family=\"Arial\" font-size=\"8.00\">RefDirection</text>\n</g>\n<!-- 21 -->\n<g id=\"node5\" class=\"node\">\n<title>21</title>\n<polygon fill=\"none\" stroke=\"black\" points=\"0,-32 0,-112 153,-112 153,-32 0,-32\"/>\n<text text-anchor=\"middle\" x=\"76.5\" y=\"-101.6\" font-family=\"Arial\" font-size=\"8.00\">#21 </text>\n<text text-anchor=\"middle\" x=\"76.5\" y=\"-92.6\" font-family=\"Arial\" font-size=\"8.00\">(IfcGeometricRepresentationContext) </text>\n<text text-anchor=\"start\" x=\"8\" y=\"-74.6\" font-family=\"Arial\" font-size=\"8.00\">ContextIdentifier : None </text>\n<text text-anchor=\"start\" x=\"8\" y=\"-65.6\" font-family=\"Arial\" font-size=\"8.00\">ContextType : Model </text>\n<text text-anchor=\"start\" x=\"8\" y=\"-56.6\" font-family=\"Arial\" font-size=\"8.00\">CoordinateSpaceDimension : 3 </text>\n<text text-anchor=\"start\" x=\"8\" y=\"-47.6\" font-family=\"Arial\" font-size=\"8.00\">Precision : 1e&#45;05 </text>\n<text text-anchor=\"start\" x=\"8\" y=\"-38.6\" font-family=\"Arial\" font-size=\"8.00\">TrueNorth : None </text>\n</g>\n<!-- 21&#45;&gt;17 -->\n<g id=\"edge4\" class=\"edge\">\n<title>21&#45;&gt;17</title>\n<path fill=\"none\" stroke=\"black\" d=\"M153.22,-72C189.53,-72 232.41,-72 266.43,-72\"/>\n<polygon fill=\"black\" stroke=\"black\" points=\"266.69,-75.5 276.69,-72 266.69,-68.5 266.69,-75.5\"/>\n<text text-anchor=\"middle\" x=\"215\" y=\"-74.6\" font-family=\"Arial\" font-size=\"8.00\">WorldCoordinateSystem</text>\n</g>\n</g>\n</svg>\n",
      "text/plain": [
       "<graphviz.graphs.Digraph at 0x25fd6a19d30>"
      ]
     },
     "execution_count": 4,
     "metadata": {},
     "output_type": "execute_result"
    }
   ],
   "source": [
    "from utils import IfcGraphViz\n",
    "graph = IfcGraphViz.IfcGraphViz().plot_graph(file, project.RepresentationContexts[0])\n",
    "graph"
   ]
  },
  {
   "cell_type": "code",
   "execution_count": 5,
   "metadata": {},
   "outputs": [
    {
     "data": {
      "text/plain": [
       "{'id': 17,\n",
       " 'type': 'IfcAxis2Placement3D',\n",
       " 'Location': #14=IfcCartesianPoint((0.,0.,0.)),\n",
       " 'Axis': #15=IfcDirection((0.,0.,1.)),\n",
       " 'RefDirection': #16=IfcDirection((1.,0.,0.))}"
      ]
     },
     "execution_count": 5,
     "metadata": {},
     "output_type": "execute_result"
    }
   ],
   "source": [
    "# As we can see below, the coordinates (0,0,0) are used for the origin.\n",
    "\n",
    "project.RepresentationContexts[0].WorldCoordinateSystem.get_info()"
   ]
  },
  {
   "cell_type": "markdown",
   "metadata": {},
   "source": [
    "#### Project Coordinate System\n",
    "The actual project coordinate system is defined by the **HasCoordinateOperation** relationship. This holds an *IfcMapConversion* element, with all sorts of useful attributes. Let’s go through them below:\n",
    "- **SourceCRS**: refers back to the **IfcGeometricRepresentationContext** of the IfcProject to establish the inverse relationship\n",
    "- **TargetCRS**: refers to the CRS used in the project. This will hold an **IfcCoordinateReferenceSystem**, or its subtype **IfcProjectedCRS** (We'll look at this in more detail below).\n",
    "- **Eastings**: your IfcProject’s world **IfcGeometricRepresentationContext**’s 0,0,0 origin will correlate to this number. In Sydney, if your building is the Sydney Opera House, this’ll be something like 334902.775. If you have specified a **MapUnit** in the **ProjectedCRS** you should use that unit (e.g. meters). Otherwise, you should use the project units (e.g. millimeters).\n",
    "- **Northings**: same as Eastings, but for the Y axis. For the Sydney Opera House, it’ll be something like 6252274.139.\n",
    "- **OrthogonalHeight**: continuing our example, this’ll be the AHD of our world origin. Wikipedia says it is 4m in elevation, so I guess it’ll be something like 4. In this case, we keep the same units as Eastings and Northings, so that we can apply a uniform scale afterwords.\n",
    "- **XAxisAbscissa**: specifies the local X axis vector along the easting to determine rotation of the local coordinates. If there is no rotation, this will be 1.\n",
    "- **XAxisOrdinate**: specifies the local X axis vector along the northing to determine rotation of the local coordinates. If there is no rotation, this will be 0.\n",
    "- **Scale**: Our local (source) coordinate system is usually in millimeters, and the target coordinate system (MGA56) is in meters, so the scale conversion will be something around 0.001. Keep in mind that it is unlikely to be exactly 0.001. This is because the scale isn’t primarily about units, it is the scaling factor of the Helmert transformation, which takes into account curvature of the Earth and local site topograpy. Your surveyor can calculate the actual value.\n",
    "\n",
    "Let's see what this looks like in our sample file.  First, let's find **HasCoordinateOperation** - This is an inverse attribute of **IfcGeometricRepresentationContext**:"
   ]
  },
  {
   "cell_type": "code",
   "execution_count": 6,
   "metadata": {},
   "outputs": [
    {
     "name": "stdout",
     "output_type": "stream",
     "text": [
      "HasCoordinateOperation:  (#28=IfcMapConversion(#21,#27,334871.85,6252295.02,12.,2.59808,-1.5,1.),)\n",
      "HasSubContexts:  (#22=IfcGeometricRepresentationSubContext('Body','Model',*,*,*,*,#21,$,.MODEL_VIEW.,$),)\n"
     ]
    }
   ],
   "source": [
    "# project\n",
    "representation_context = project.RepresentationContexts[0]\n",
    "for key in dir(representation_context):\n",
    "            if (\n",
    "                not key[0].isalpha()\n",
    "                or key[0] != key[0].upper()\n",
    "                or key in representation_context.get_info()\n",
    "                or not getattr(representation_context, key)\n",
    "            ):\n",
    "                continue\n",
    "            print(f\"{key}: \",getattr(representation_context, key))"
   ]
  },
  {
   "cell_type": "markdown",
   "metadata": {},
   "source": [
    "We know know that IfcMapConversion has an ID of #28, so let's go ahead and visualize this:"
   ]
  },
  {
   "cell_type": "code",
   "execution_count": 7,
   "metadata": {},
   "outputs": [
    {
     "data": {
      "image/svg+xml": "<?xml version=\"1.0\" encoding=\"UTF-8\" standalone=\"no\"?>\n<!DOCTYPE svg PUBLIC \"-//W3C//DTD SVG 1.1//EN\"\n \"http://www.w3.org/Graphics/SVG/1.1/DTD/svg11.dtd\">\n<!-- Generated by graphviz version 5.0.0 (20220707.1540)\n -->\n<!-- Pages: 1 -->\n<svg width=\"746pt\" height=\"229pt\"\n viewBox=\"0.00 0.00 746.00 229.00\" xmlns=\"http://www.w3.org/2000/svg\" xmlns:xlink=\"http://www.w3.org/1999/xlink\">\n<g id=\"graph0\" class=\"graph\" transform=\"scale(1 1) rotate(0) translate(4 225)\">\n<polygon fill=\"white\" stroke=\"transparent\" points=\"-4,4 -4,-225 742,-225 742,4 -4,4\"/>\n<!-- 14 -->\n<g id=\"node1\" class=\"node\">\n<title>14</title>\n<polygon fill=\"none\" stroke=\"black\" points=\"652,-185.5 652,-220.5 738,-220.5 738,-185.5 652,-185.5\"/>\n<text text-anchor=\"middle\" x=\"695\" y=\"-210.1\" font-family=\"Arial\" font-size=\"8.00\">#14 </text>\n<text text-anchor=\"middle\" x=\"695\" y=\"-201.1\" font-family=\"Arial\" font-size=\"8.00\">(IfcCartesianPoint) </text>\n</g>\n<!-- 17 -->\n<g id=\"node2\" class=\"node\">\n<title>17</title>\n<polygon fill=\"none\" stroke=\"black\" points=\"468.5,-131.5 468.5,-166.5 569.5,-166.5 569.5,-131.5 468.5,-131.5\"/>\n<text text-anchor=\"middle\" x=\"519\" y=\"-156.1\" font-family=\"Arial\" font-size=\"8.00\">#17 </text>\n<text text-anchor=\"middle\" x=\"519\" y=\"-147.1\" font-family=\"Arial\" font-size=\"8.00\">(IfcAxis2Placement3D) </text>\n</g>\n<!-- 17&#45;&gt;14 -->\n<g id=\"edge1\" class=\"edge\">\n<title>17&#45;&gt;14</title>\n<path fill=\"none\" stroke=\"black\" d=\"M569.86,-164.47C592.43,-171.48 619.11,-179.76 641.93,-186.84\"/>\n<polygon fill=\"black\" stroke=\"black\" points=\"641.2,-190.28 651.79,-189.9 643.27,-183.59 641.2,-190.28\"/>\n<text text-anchor=\"middle\" x=\"611.5\" y=\"-185.6\" font-family=\"Arial\" font-size=\"8.00\">Location</text>\n</g>\n<!-- 15 -->\n<g id=\"node3\" class=\"node\">\n<title>15</title>\n<polygon fill=\"none\" stroke=\"black\" points=\"659,-131.5 659,-166.5 731,-166.5 731,-131.5 659,-131.5\"/>\n<text text-anchor=\"middle\" x=\"695\" y=\"-156.1\" font-family=\"Arial\" font-size=\"8.00\">#15 </text>\n<text text-anchor=\"middle\" x=\"695\" y=\"-147.1\" font-family=\"Arial\" font-size=\"8.00\">(IfcDirection) </text>\n</g>\n<!-- 17&#45;&gt;15 -->\n<g id=\"edge2\" class=\"edge\">\n<title>17&#45;&gt;15</title>\n<path fill=\"none\" stroke=\"black\" d=\"M569.86,-149C594.62,-149 624.31,-149 648.45,-149\"/>\n<polygon fill=\"black\" stroke=\"black\" points=\"648.77,-152.5 658.77,-149 648.77,-145.5 648.77,-152.5\"/>\n<text text-anchor=\"middle\" x=\"611.5\" y=\"-151.6\" font-family=\"Arial\" font-size=\"8.00\">Axis</text>\n</g>\n<!-- 16 -->\n<g id=\"node4\" class=\"node\">\n<title>16</title>\n<polygon fill=\"none\" stroke=\"black\" points=\"659,-77.5 659,-112.5 731,-112.5 731,-77.5 659,-77.5\"/>\n<text text-anchor=\"middle\" x=\"695\" y=\"-102.1\" font-family=\"Arial\" font-size=\"8.00\">#16 </text>\n<text text-anchor=\"middle\" x=\"695\" y=\"-93.1\" font-family=\"Arial\" font-size=\"8.00\">(IfcDirection) </text>\n</g>\n<!-- 17&#45;&gt;16 -->\n<g id=\"edge3\" class=\"edge\">\n<title>17&#45;&gt;16</title>\n<path fill=\"none\" stroke=\"black\" d=\"M569.86,-133.53C594.84,-125.77 624.85,-116.46 649.1,-108.93\"/>\n<polygon fill=\"black\" stroke=\"black\" points=\"650.26,-112.24 658.77,-105.93 648.18,-105.55 650.26,-112.24\"/>\n<text text-anchor=\"middle\" x=\"611.5\" y=\"-128.6\" font-family=\"Arial\" font-size=\"8.00\">RefDirection</text>\n</g>\n<!-- 21 -->\n<g id=\"node5\" class=\"node\">\n<title>21</title>\n<polygon fill=\"none\" stroke=\"black\" points=\"190,-109 190,-189 343,-189 343,-109 190,-109\"/>\n<text text-anchor=\"middle\" x=\"266.5\" y=\"-178.6\" font-family=\"Arial\" font-size=\"8.00\">#21 </text>\n<text text-anchor=\"middle\" x=\"266.5\" y=\"-169.6\" font-family=\"Arial\" font-size=\"8.00\">(IfcGeometricRepresentationContext) </text>\n<text text-anchor=\"start\" x=\"198\" y=\"-151.6\" font-family=\"Arial\" font-size=\"8.00\">ContextIdentifier : None </text>\n<text text-anchor=\"start\" x=\"198\" y=\"-142.6\" font-family=\"Arial\" font-size=\"8.00\">ContextType : Model </text>\n<text text-anchor=\"start\" x=\"198\" y=\"-133.6\" font-family=\"Arial\" font-size=\"8.00\">CoordinateSpaceDimension : 3 </text>\n<text text-anchor=\"start\" x=\"198\" y=\"-124.6\" font-family=\"Arial\" font-size=\"8.00\">Precision : 1e&#45;05 </text>\n<text text-anchor=\"start\" x=\"198\" y=\"-115.6\" font-family=\"Arial\" font-size=\"8.00\">TrueNorth : None </text>\n</g>\n<!-- 21&#45;&gt;17 -->\n<g id=\"edge4\" class=\"edge\">\n<title>21&#45;&gt;17</title>\n<path fill=\"none\" stroke=\"black\" d=\"M343.34,-149C380.01,-149 423.41,-149 457.77,-149\"/>\n<polygon fill=\"black\" stroke=\"black\" points=\"458.13,-152.5 468.13,-149 458.13,-145.5 458.13,-152.5\"/>\n<text text-anchor=\"middle\" x=\"405\" y=\"-151.6\" font-family=\"Arial\" font-size=\"8.00\">WorldCoordinateSystem</text>\n</g>\n<!-- 28 -->\n<g id=\"node6\" class=\"node\">\n<title>28</title>\n<polygon fill=\"none\" stroke=\"black\" points=\"0,-52.5 0,-141.5 111,-141.5 111,-52.5 0,-52.5\"/>\n<text text-anchor=\"middle\" x=\"55.5\" y=\"-131.1\" font-family=\"Arial\" font-size=\"8.00\">#28 </text>\n<text text-anchor=\"middle\" x=\"55.5\" y=\"-122.1\" font-family=\"Arial\" font-size=\"8.00\">(IfcMapConversion) </text>\n<text text-anchor=\"start\" x=\"8\" y=\"-104.1\" font-family=\"Arial\" font-size=\"8.00\">Eastings : 334871.85 </text>\n<text text-anchor=\"start\" x=\"8\" y=\"-95.1\" font-family=\"Arial\" font-size=\"8.00\">Northings : 6252295.02 </text>\n<text text-anchor=\"start\" x=\"8\" y=\"-86.1\" font-family=\"Arial\" font-size=\"8.00\">OrthogonalHeight : 12.0 </text>\n<text text-anchor=\"start\" x=\"8\" y=\"-77.1\" font-family=\"Arial\" font-size=\"8.00\">XAxisAbscissa : 2.59808 </text>\n<text text-anchor=\"start\" x=\"8\" y=\"-68.1\" font-family=\"Arial\" font-size=\"8.00\">XAxisOrdinate : &#45;1.5 </text>\n<text text-anchor=\"start\" x=\"8\" y=\"-59.1\" font-family=\"Arial\" font-size=\"8.00\">Scale : 1.0 </text>\n</g>\n<!-- 28&#45;&gt;21 -->\n<g id=\"edge5\" class=\"edge\">\n<title>28&#45;&gt;21</title>\n<path fill=\"none\" stroke=\"black\" d=\"M111.14,-110.59C132.2,-115.83 156.79,-121.95 180.07,-127.74\"/>\n<polygon fill=\"black\" stroke=\"black\" points=\"179.4,-131.19 189.95,-130.2 181.09,-124.39 179.4,-131.19\"/>\n<text text-anchor=\"middle\" x=\"150.5\" y=\"-126.6\" font-family=\"Arial\" font-size=\"8.00\">SourceCRS</text>\n</g>\n<!-- 27 -->\n<g id=\"node8\" class=\"node\">\n<title>27</title>\n<polygon fill=\"none\" stroke=\"black\" points=\"208.5,-0.5 208.5,-89.5 324.5,-89.5 324.5,-0.5 208.5,-0.5\"/>\n<text text-anchor=\"middle\" x=\"266.5\" y=\"-79.1\" font-family=\"Arial\" font-size=\"8.00\">#27 </text>\n<text text-anchor=\"middle\" x=\"266.5\" y=\"-70.1\" font-family=\"Arial\" font-size=\"8.00\">(IfcProjectedCRS) </text>\n<text text-anchor=\"start\" x=\"216.5\" y=\"-52.1\" font-family=\"Arial\" font-size=\"8.00\">Name : EPSG:7856 </text>\n<text text-anchor=\"start\" x=\"216.5\" y=\"-43.1\" font-family=\"Arial\" font-size=\"8.00\">Description : </text>\n<text text-anchor=\"start\" x=\"216.5\" y=\"-34.1\" font-family=\"Arial\" font-size=\"8.00\">GeodeticDatum : </text>\n<text text-anchor=\"start\" x=\"216.5\" y=\"-25.1\" font-family=\"Arial\" font-size=\"8.00\">VerticalDatum : EPSG:5111 </text>\n<text text-anchor=\"start\" x=\"216.5\" y=\"-16.1\" font-family=\"Arial\" font-size=\"8.00\">MapProjection : </text>\n<text text-anchor=\"start\" x=\"216.5\" y=\"-7.1\" font-family=\"Arial\" font-size=\"8.00\">MapZone : </text>\n</g>\n<!-- 28&#45;&gt;27 -->\n<g id=\"edge7\" class=\"edge\">\n<title>28&#45;&gt;27</title>\n<path fill=\"none\" stroke=\"black\" d=\"M111.14,-83.41C137.86,-76.76 170.27,-68.69 198.47,-61.68\"/>\n<polygon fill=\"black\" stroke=\"black\" points=\"199.4,-65.05 208.26,-59.24 197.71,-58.26 199.4,-65.05\"/>\n<text text-anchor=\"middle\" x=\"150.5\" y=\"-80.6\" font-family=\"Arial\" font-size=\"8.00\">TargetCRS</text>\n</g>\n<!-- 26 -->\n<g id=\"node7\" class=\"node\">\n<title>26</title>\n<polygon fill=\"none\" stroke=\"black\" points=\"467,-9.5 467,-80.5 571,-80.5 571,-9.5 467,-9.5\"/>\n<text text-anchor=\"middle\" x=\"519\" y=\"-70.1\" font-family=\"Arial\" font-size=\"8.00\">#26 </text>\n<text text-anchor=\"middle\" x=\"519\" y=\"-61.1\" font-family=\"Arial\" font-size=\"8.00\">(IfcSIUnit) </text>\n<text text-anchor=\"start\" x=\"475\" y=\"-43.1\" font-family=\"Arial\" font-size=\"8.00\">Dimensions : None </text>\n<text text-anchor=\"start\" x=\"475\" y=\"-34.1\" font-family=\"Arial\" font-size=\"8.00\">UnitType : LENGTHUNIT </text>\n<text text-anchor=\"start\" x=\"475\" y=\"-25.1\" font-family=\"Arial\" font-size=\"8.00\">Prefix : None </text>\n<text text-anchor=\"start\" x=\"475\" y=\"-16.1\" font-family=\"Arial\" font-size=\"8.00\">Name : METRE </text>\n</g>\n<!-- 27&#45;&gt;26 -->\n<g id=\"edge6\" class=\"edge\">\n<title>27&#45;&gt;26</title>\n<path fill=\"none\" stroke=\"black\" d=\"M324.66,-45C363.98,-45 416.16,-45 456.4,-45\"/>\n<polygon fill=\"black\" stroke=\"black\" points=\"456.62,-48.5 466.62,-45 456.62,-41.5 456.62,-48.5\"/>\n<text text-anchor=\"middle\" x=\"405\" y=\"-47.6\" font-family=\"Arial\" font-size=\"8.00\">MapUnit</text>\n</g>\n</g>\n</svg>\n",
      "text/plain": [
       "<graphviz.graphs.Digraph at 0x25fd672b610>"
      ]
     },
     "execution_count": 7,
     "metadata": {},
     "output_type": "execute_result"
    }
   ],
   "source": [
    "IfcGraphViz.IfcGraphViz().plot_graph(file, file.by_id(28))"
   ]
  },
  {
   "cell_type": "markdown",
   "metadata": {},
   "source": [
    "This **IfcMapConversion** and **IfcProjectedCRS** element of the **IfcProject**’s **IfcGeometricRepresentationContext** holds all of the georeferencing information that we require. These attributes contains all of the parameters required to perform a “Helmert transformation”, which is a fancy way of saying how to offset, rotate, and scale local project coordinates to a globally positioned coordinate system. For your surveyor to provide these transformation parameters properly, they will need multiple surveyed points (a minimum of two), ideally taken at extremes across the site, in both your local coordinates, as well as their equivalents in the target CRS. They will also need to know your desired building orientation (i.e. project north) to calculate the X axis abcissa and ordinate, and a nominated false origin to set the **Eastings** and **Northings**. The more points that are surveyed, the more accurate this **IfcMapConversion** will become.\n",
    "\n",
    "With all of the information defined above, to convert from local coordinates (X, Y, Z), to map grid coordinates (X', Y', Z'), you can use these relationships:\n",
    "\n",
    "![](img/ifcmapconversion-relationship.png)\n",
    "\n",
    "After all of this information is recorded, it’s interesting to note that the **IfcGeometricRepresentationContext** additionally has a **TrueNorth** attribute. Assuming the **IfcMapConversion** is already provided, there is actually no need for a **TrueNorth** attribute, and so if it is provided, it is merely duplicate data and there for convenience. IFC readers should not parse it and should not apply the same rotation twice. The **IfcMapConversion** takes priority over the **TrueNorth** attribute."
   ]
  },
  {
   "cell_type": "markdown",
   "metadata": {},
   "source": [
    "#### **Coordinate system inheritance**\n",
    "The IfcSite is spatially contained in the IfcProject. However, the spatial containment is not the determining factor for how coordinates are inherited. Instead, the IfcSite has an ObjectPlacement and a Representation attribute. These are the important attributes to pay attention to.  Let's take a closer look in our sample file:\n",
    "\n",
    "The ObjectPlacement attribute positions the IfcSite element relative to other objects. We will discuss about different placements below, but suffice to say that it merely deals with relative offsets of coordinates."
   ]
  },
  {
   "cell_type": "code",
   "execution_count": 8,
   "metadata": {},
   "outputs": [
    {
     "data": {
      "text/plain": [
       "{'id': 83,\n",
       " 'type': 'IfcSite',\n",
       " 'GlobalId': '2Naya6vn181f_Nk1xMGM7f',\n",
       " 'OwnerHistory': #20=IfcOwnerHistory(#18,#19,.READWRITE.,.NOTDEFINED.,1589249386,#18,#19,1589249386),\n",
       " 'Name': 'My Site',\n",
       " 'Description': None,\n",
       " 'ObjectType': None,\n",
       " 'ObjectPlacement': #82=IfcLocalPlacement($,#17),\n",
       " 'Representation': None,\n",
       " 'LongName': None,\n",
       " 'CompositionType': None,\n",
       " 'RefLatitude': None,\n",
       " 'RefLongitude': None,\n",
       " 'RefElevation': None,\n",
       " 'LandTitleNumber': None,\n",
       " 'SiteAddress': None}"
      ]
     },
     "execution_count": 8,
     "metadata": {},
     "output_type": "execute_result"
    }
   ],
   "source": [
    "site = file.by_type(\"IfcSite\")[0]\n",
    "site.get_info()"
   ]
  },
  {
   "cell_type": "markdown",
   "metadata": {},
   "source": [
    "The **Representation** attribute, however, contains an **IfcRepresentationContext** chosen from the list of contexts defined at the **IfcProject** level. It is this particular selection of the **IfcRepresentationContext** that allows the **IfcSite** to inherit a particular **WorldCoordinateSystem** and **MapConversion** attribute defined at the **IfcProject** level.\n",
    "\n",
    "I would like to emphasize that the inheritance of coordinate transformation is not done due to spatial containment, but instead due to the selection of **IfcRepresentationContext**. This allows different IfcSite elements to have a different **IfcRepresentationContext**, and therefore have a different MapConversion. This is useful if you are working on a small town or any geographically large projects, as different sites will likely require different Helmert transformations. That said, I have heard talk that the **IfcMapConversion** could be moved to be defined at the **IfcSite** level, instead of the **IfcProject**.\n",
    "\n",
    "In fact, any IFC product that has a representation can select its own context.  Let's look at our sample model again:"
   ]
  },
  {
   "cell_type": "code",
   "execution_count": 19,
   "metadata": {},
   "outputs": [
    {
     "data": {
      "application/vnd.jupyter.widget-view+json": {
       "model_id": "c4daa7c1dc7648e4851f1bfe9c26d27d",
       "version_major": 2,
       "version_minor": 0
      },
      "text/plain": [
       "HBox(children=(VBox(children=(HBox(children=(Checkbox(value=True, description='Axes', layout=Layout(height='au…"
      ]
     },
     "metadata": {},
     "output_type": "display_data"
    },
    {
     "data": {
      "text/plain": []
     },
     "execution_count": 19,
     "metadata": {},
     "output_type": "execute_result"
    }
   ],
   "source": [
    "# First, let's load some fancy 3d graphics ;) - Thanks again Jakob Beetz for the code adaptation 😀\n",
    "from utils.JupyterIFCRenderer import JupyterIFCRenderer\n",
    "viewer = JupyterIFCRenderer(file, size=(600,500))\n",
    "viewer"
   ]
  },
  {
   "cell_type": "code",
   "execution_count": 15,
   "metadata": {},
   "outputs": [
    {
     "data": {
      "text/plain": [
       "#104=IfcWall('2NJ_23i9r0G8LCrcGX2cKW',#20,'Cube',$,$,#95,#103,$,.MOVABLE.)"
      ]
     },
     "execution_count": 15,
     "metadata": {},
     "output_type": "execute_result"
    }
   ],
   "source": [
    "selection = viewer.getSelectedProduct()\n",
    "selection"
   ]
  },
  {
   "cell_type": "code",
   "execution_count": 16,
   "metadata": {},
   "outputs": [
    {
     "data": {
      "text/plain": [
       "#103=IfcProductDefinitionShape($,$,(#102))"
      ]
     },
     "execution_count": 16,
     "metadata": {},
     "output_type": "execute_result"
    }
   ],
   "source": [
    "# We know the wall has an ID of #104, so let's look at the Representation:\n",
    "wall = file.by_id(104)\n",
    "representation = wall.Representation\n",
    "representation"
   ]
  },
  {
   "cell_type": "code",
   "execution_count": 17,
   "metadata": {},
   "outputs": [
    {
     "data": {
      "image/svg+xml": "<?xml version=\"1.0\" encoding=\"UTF-8\" standalone=\"no\"?>\n<!DOCTYPE svg PUBLIC \"-//W3C//DTD SVG 1.1//EN\"\n \"http://www.w3.org/Graphics/SVG/1.1/DTD/svg11.dtd\">\n<!-- Generated by graphviz version 5.0.0 (20220707.1540)\n -->\n<!-- Pages: 1 -->\n<svg width=\"1082pt\" height=\"152pt\"\n viewBox=\"0.00 0.00 1082.00 152.00\" xmlns=\"http://www.w3.org/2000/svg\" xmlns:xlink=\"http://www.w3.org/1999/xlink\">\n<g id=\"graph0\" class=\"graph\" transform=\"scale(1 1) rotate(0) translate(4 148)\">\n<polygon fill=\"white\" stroke=\"transparent\" points=\"-4,4 -4,-148 1078,-148 1078,4 -4,4\"/>\n<!-- 14 -->\n<g id=\"node1\" class=\"node\">\n<title>14</title>\n<polygon fill=\"none\" stroke=\"black\" points=\"988,-108.5 988,-143.5 1074,-143.5 1074,-108.5 988,-108.5\"/>\n<text text-anchor=\"middle\" x=\"1031\" y=\"-133.1\" font-family=\"Arial\" font-size=\"8.00\">#14 </text>\n<text text-anchor=\"middle\" x=\"1031\" y=\"-124.1\" font-family=\"Arial\" font-size=\"8.00\">(IfcCartesianPoint) </text>\n</g>\n<!-- 17 -->\n<g id=\"node2\" class=\"node\">\n<title>17</title>\n<polygon fill=\"none\" stroke=\"black\" points=\"806,-54.5 806,-89.5 907,-89.5 907,-54.5 806,-54.5\"/>\n<text text-anchor=\"middle\" x=\"856.5\" y=\"-79.1\" font-family=\"Arial\" font-size=\"8.00\">#17 </text>\n<text text-anchor=\"middle\" x=\"856.5\" y=\"-70.1\" font-family=\"Arial\" font-size=\"8.00\">(IfcAxis2Placement3D) </text>\n</g>\n<!-- 17&#45;&gt;14 -->\n<g id=\"edge1\" class=\"edge\">\n<title>17&#45;&gt;14</title>\n<path fill=\"none\" stroke=\"black\" d=\"M907.39,-87.62C929.58,-94.57 955.7,-102.74 978.12,-109.76\"/>\n<polygon fill=\"black\" stroke=\"black\" points=\"977.21,-113.14 987.8,-112.79 979.3,-106.46 977.21,-113.14\"/>\n<text text-anchor=\"middle\" x=\"947.5\" y=\"-108.6\" font-family=\"Arial\" font-size=\"8.00\">Location</text>\n</g>\n<!-- 15 -->\n<g id=\"node3\" class=\"node\">\n<title>15</title>\n<polygon fill=\"none\" stroke=\"black\" points=\"995,-54.5 995,-89.5 1067,-89.5 1067,-54.5 995,-54.5\"/>\n<text text-anchor=\"middle\" x=\"1031\" y=\"-79.1\" font-family=\"Arial\" font-size=\"8.00\">#15 </text>\n<text text-anchor=\"middle\" x=\"1031\" y=\"-70.1\" font-family=\"Arial\" font-size=\"8.00\">(IfcDirection) </text>\n</g>\n<!-- 17&#45;&gt;15 -->\n<g id=\"edge2\" class=\"edge\">\n<title>17&#45;&gt;15</title>\n<path fill=\"none\" stroke=\"black\" d=\"M907.39,-72C931.84,-72 961.05,-72 984.83,-72\"/>\n<polygon fill=\"black\" stroke=\"black\" points=\"984.99,-75.5 994.99,-72 984.99,-68.5 984.99,-75.5\"/>\n<text text-anchor=\"middle\" x=\"947.5\" y=\"-74.6\" font-family=\"Arial\" font-size=\"8.00\">Axis</text>\n</g>\n<!-- 16 -->\n<g id=\"node4\" class=\"node\">\n<title>16</title>\n<polygon fill=\"none\" stroke=\"black\" points=\"995,-0.5 995,-35.5 1067,-35.5 1067,-0.5 995,-0.5\"/>\n<text text-anchor=\"middle\" x=\"1031\" y=\"-25.1\" font-family=\"Arial\" font-size=\"8.00\">#16 </text>\n<text text-anchor=\"middle\" x=\"1031\" y=\"-16.1\" font-family=\"Arial\" font-size=\"8.00\">(IfcDirection) </text>\n</g>\n<!-- 17&#45;&gt;16 -->\n<g id=\"edge3\" class=\"edge\">\n<title>17&#45;&gt;16</title>\n<path fill=\"none\" stroke=\"black\" d=\"M907.39,-56.38C931.95,-48.69 961.31,-39.5 985.15,-32.04\"/>\n<polygon fill=\"black\" stroke=\"black\" points=\"986.49,-35.29 994.99,-28.96 984.4,-28.61 986.49,-35.29\"/>\n<text text-anchor=\"middle\" x=\"947.5\" y=\"-52.6\" font-family=\"Arial\" font-size=\"8.00\">RefDirection</text>\n</g>\n<!-- 21 -->\n<g id=\"node5\" class=\"node\">\n<title>21</title>\n<polygon fill=\"none\" stroke=\"black\" points=\"529,-32 529,-112 682,-112 682,-32 529,-32\"/>\n<text text-anchor=\"middle\" x=\"605.5\" y=\"-101.6\" font-family=\"Arial\" font-size=\"8.00\">#21 </text>\n<text text-anchor=\"middle\" x=\"605.5\" y=\"-92.6\" font-family=\"Arial\" font-size=\"8.00\">(IfcGeometricRepresentationContext) </text>\n<text text-anchor=\"start\" x=\"537\" y=\"-74.6\" font-family=\"Arial\" font-size=\"8.00\">ContextIdentifier : None </text>\n<text text-anchor=\"start\" x=\"537\" y=\"-65.6\" font-family=\"Arial\" font-size=\"8.00\">ContextType : Model </text>\n<text text-anchor=\"start\" x=\"537\" y=\"-56.6\" font-family=\"Arial\" font-size=\"8.00\">CoordinateSpaceDimension : 3 </text>\n<text text-anchor=\"start\" x=\"537\" y=\"-47.6\" font-family=\"Arial\" font-size=\"8.00\">Precision : 1e&#45;05 </text>\n<text text-anchor=\"start\" x=\"537\" y=\"-38.6\" font-family=\"Arial\" font-size=\"8.00\">TrueNorth : None </text>\n</g>\n<!-- 21&#45;&gt;17 -->\n<g id=\"edge4\" class=\"edge\">\n<title>21&#45;&gt;17</title>\n<path fill=\"none\" stroke=\"black\" d=\"M682.22,-72C718.53,-72 761.41,-72 795.43,-72\"/>\n<polygon fill=\"black\" stroke=\"black\" points=\"795.69,-75.5 805.69,-72 795.69,-68.5 795.69,-75.5\"/>\n<text text-anchor=\"middle\" x=\"744\" y=\"-74.6\" font-family=\"Arial\" font-size=\"8.00\">WorldCoordinateSystem</text>\n</g>\n<!-- 22 -->\n<g id=\"node6\" class=\"node\">\n<title>22</title>\n<polygon fill=\"none\" stroke=\"black\" points=\"274,-14 274,-130 441,-130 441,-14 274,-14\"/>\n<text text-anchor=\"middle\" x=\"357.5\" y=\"-119.6\" font-family=\"Arial\" font-size=\"8.00\">#22 </text>\n<text text-anchor=\"middle\" x=\"357.5\" y=\"-110.6\" font-family=\"Arial\" font-size=\"8.00\">(IfcGeometricRepresentationSubContext) </text>\n<text text-anchor=\"start\" x=\"282\" y=\"-92.6\" font-family=\"Arial\" font-size=\"8.00\">ContextIdentifier : Body </text>\n<text text-anchor=\"start\" x=\"282\" y=\"-83.6\" font-family=\"Arial\" font-size=\"8.00\">ContextType : Model </text>\n<text text-anchor=\"start\" x=\"282\" y=\"-74.6\" font-family=\"Arial\" font-size=\"8.00\">CoordinateSpaceDimension : None </text>\n<text text-anchor=\"start\" x=\"282\" y=\"-65.6\" font-family=\"Arial\" font-size=\"8.00\">Precision : None </text>\n<text text-anchor=\"start\" x=\"282\" y=\"-56.6\" font-family=\"Arial\" font-size=\"8.00\">WorldCoordinateSystem : None </text>\n<text text-anchor=\"start\" x=\"282\" y=\"-47.6\" font-family=\"Arial\" font-size=\"8.00\">TrueNorth : None </text>\n<text text-anchor=\"start\" x=\"282\" y=\"-38.6\" font-family=\"Arial\" font-size=\"8.00\">TargetScale : None </text>\n<text text-anchor=\"start\" x=\"282\" y=\"-29.6\" font-family=\"Arial\" font-size=\"8.00\">TargetView : MODEL_VIEW </text>\n<text text-anchor=\"start\" x=\"282\" y=\"-20.6\" font-family=\"Arial\" font-size=\"8.00\">UserDefinedTargetView : None </text>\n</g>\n<!-- 22&#45;&gt;21 -->\n<g id=\"edge5\" class=\"edge\">\n<title>22&#45;&gt;21</title>\n<path fill=\"none\" stroke=\"black\" d=\"M441.1,-72C466,-72 493.39,-72 518.51,-72\"/>\n<polygon fill=\"black\" stroke=\"black\" points=\"518.75,-75.5 528.75,-72 518.75,-68.5 518.75,-75.5\"/>\n<text text-anchor=\"middle\" x=\"485\" y=\"-74.6\" font-family=\"Arial\" font-size=\"8.00\">ParentContext</text>\n</g>\n<!-- 102 -->\n<g id=\"node7\" class=\"node\">\n<title>102</title>\n<polygon fill=\"none\" stroke=\"black\" points=\"0,-45.5 0,-98.5 182,-98.5 182,-45.5 0,-45.5\"/>\n<text text-anchor=\"middle\" x=\"91\" y=\"-88.1\" font-family=\"Arial\" font-size=\"8.00\">#102 </text>\n<text text-anchor=\"middle\" x=\"91\" y=\"-79.1\" font-family=\"Arial\" font-size=\"8.00\">(IfcShapeRepresentation) </text>\n<text text-anchor=\"start\" x=\"8\" y=\"-61.1\" font-family=\"Arial\" font-size=\"8.00\">RepresentationIdentifier : Body </text>\n<text text-anchor=\"start\" x=\"8\" y=\"-52.1\" font-family=\"Arial\" font-size=\"8.00\">RepresentationType : MappedRepresentation </text>\n</g>\n<!-- 102&#45;&gt;22 -->\n<g id=\"edge6\" class=\"edge\">\n<title>102&#45;&gt;22</title>\n<path fill=\"none\" stroke=\"black\" d=\"M182.29,-72C208.56,-72 237.3,-72 263.73,-72\"/>\n<polygon fill=\"black\" stroke=\"black\" points=\"263.73,-75.5 273.73,-72 263.73,-68.5 263.73,-75.5\"/>\n<text text-anchor=\"middle\" x=\"228\" y=\"-74.6\" font-family=\"Arial\" font-size=\"8.00\">ContextOfItems</text>\n</g>\n</g>\n</svg>\n",
      "text/plain": [
       "<graphviz.graphs.Digraph at 0x25fdc21ee20>"
      ]
     },
     "execution_count": 17,
     "metadata": {},
     "output_type": "execute_result"
    }
   ],
   "source": [
    "IfcGraphViz.IfcGraphViz().plot_graph(file, representation.Representations[0])\n",
    "\n",
    "# Notice that the definition of ParentContext below:"
   ]
  },
  {
   "cell_type": "markdown",
   "metadata": {},
   "source": [
    "#### Coordinate systems defined by IfcSite\n",
    "\n",
    "In addition to ordinary coordinates, the **IfcSite** provides **RefLatitude**, **RefLongitude**, and **RefElevation** attributes. As the prefix “Ref” suggests, this is a latitude and longitutude provided only for reference. It is not sufficient for proper geolocation and if there is a discrepancy between the **IfcMapConversion** and the data provided in **IfcSite**, the **IfcMapConversion** takes priority.\n",
    "\n",
    "Note that these **RefLatitude** and **RefLongitude** values are recorded in integers that are separated by a full stop to represent degrees, minutes, seconds, and an optional millionths of a second. West and south locations are negative, and east and north locations are positive.\n",
    "\n",
    "In a real project, a project may contain multiple **IfcSite** objects. Each **IfcSite** has a **Representation**, which may include terrain, for example. For most projects, there is a site boundary, such as a cadastral boundary which denotes the legal plot of land. The **ObjectPlacement** of the **IfcSite** is therefore likely to be a corner of the site boundary which is a point that has been surveyed."
   ]
  },
  {
   "cell_type": "markdown",
   "metadata": {},
   "source": [
    "#### Coordinate systems defined by IfcBuilding\n",
    "The **IfcBuilding** contains a **Representation** of the building. It also contains an **IfcObjectPlacement**, which is relative to the **IfcSite**. This would place your building on your site model. The rotation of this placement also sets out the project north of the building. If your building has multiple wings, it may also define the individual project norths of each wing.\n",
    "\n",
    "The **IfcBuilding** additionally contains two attributes:\n",
    "- ElevationOfRefHeight: as one steps into your building, the finish floor level will be seen as the building’s internal reference height of +0.00. This attribute will record this “+0.00 reference height” in terms of the absolute values of elevation above sea level.\n",
    "- ElevationOfTerrain: this is the height in absolute values of elevation above sea level of the terrain immediately surrounding the perimeter of the building. If the terrain slopes, it is taken to be the lowest point.\n",
    "\n",
    "Time to go back to our sample model again:"
   ]
  },
  {
   "cell_type": "code",
   "execution_count": 18,
   "metadata": {},
   "outputs": [
    {
     "data": {
      "text/plain": [
       "{'id': 85,\n",
       " 'type': 'IfcBuilding',\n",
       " 'GlobalId': '3FllR6gD94WuJroKZKsPAi',\n",
       " 'OwnerHistory': #20=IfcOwnerHistory(#18,#19,.READWRITE.,.NOTDEFINED.,1589249386,#18,#19,1589249386),\n",
       " 'Name': 'My Building',\n",
       " 'Description': None,\n",
       " 'ObjectType': None,\n",
       " 'ObjectPlacement': #84=IfcLocalPlacement(#82,#17),\n",
       " 'Representation': None,\n",
       " 'LongName': None,\n",
       " 'CompositionType': None,\n",
       " 'ElevationOfRefHeight': None,\n",
       " 'ElevationOfTerrain': None,\n",
       " 'BuildingAddress': None}"
      ]
     },
     "execution_count": 18,
     "metadata": {},
     "output_type": "execute_result"
    }
   ],
   "source": [
    "building = file.by_type(\"IfcBuilding\")[0]\n",
    "building.get_info()"
   ]
  },
  {
   "cell_type": "markdown",
   "metadata": {},
   "source": [
    "Just like the reference point values in IfcSite, these are also duplications of data. It is not explicitly mentioned, but I believe that should there be a discrepancy, the derived coordinate from the IfcMapConversion takes priority.\n",
    "\n",
    "The ElevationOfTerrain, apart from being a reference value, also provides a datum to measure the EavesHeight and the Height (total height) of the building which is recorded in the Qto_BuildingBaseQuantities."
   ]
  },
  {
   "cell_type": "markdown",
   "metadata": {},
   "source": [
    "#### Absolute coordinates\n"
   ]
  }
 ],
 "metadata": {
  "kernelspec": {
   "display_name": "Python 3.9.12 ('base')",
   "language": "python",
   "name": "python3"
  },
  "language_info": {
   "codemirror_mode": {
    "name": "ipython",
    "version": 3
   },
   "file_extension": ".py",
   "mimetype": "text/x-python",
   "name": "python",
   "nbconvert_exporter": "python",
   "pygments_lexer": "ipython3",
   "version": "3.9.12"
  },
  "orig_nbformat": 4,
  "vscode": {
   "interpreter": {
    "hash": "afa1bae83f2087031025ae939c0165a21d28afa15ef366dc870cff5a4125754b"
   }
  }
 },
 "nbformat": 4,
 "nbformat_minor": 2
}
