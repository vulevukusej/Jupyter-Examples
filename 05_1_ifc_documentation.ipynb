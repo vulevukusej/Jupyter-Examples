{
 "cells": [
  {
   "cell_type": "markdown",
   "metadata": {},
   "source": [
    "## Displaying IFC documentation right in your notebook\n",
    "The helper class `utils.IfcHelp` allows you to quickly pull the official IFC docs intor your browser. Both versions 2x3 and  4 are supported through their respective `IfcHelp3(Enitity)` and `IfcHelp4(Enitity)` calls."
   ]
  },
  {
   "cell_type": "code",
   "execution_count": 1,
   "metadata": {},
   "outputs": [
    {
     "data": {
      "text/html": [
       "\n",
       "        <iframe\n",
       "            width=\"100%\"\n",
       "            height=\"500px\"\n",
       "            src=\"https://standards.buildingsmart.org/IFC/RELEASE/IFC4/ADD2_TC1/HTML/schema/ifcsharedbldgelements/lexical/ifcdoor.htm\"\n",
       "            frameborder=\"0\"\n",
       "            allowfullscreen\n",
       "            \n",
       "        ></iframe>\n",
       "        "
      ],
      "text/plain": [
       "<IPython.lib.display.IFrame at 0x2769e641db0>"
      ]
     },
     "execution_count": 1,
     "metadata": {},
     "output_type": "execute_result"
    }
   ],
   "source": [
    "import utils.IfcHelp as IfcHelp\n",
    "IfcHelp.getHelp4(\"ifcdoor\")"
   ]
  },
  {
   "cell_type": "code",
   "execution_count": 2,
   "metadata": {},
   "outputs": [],
   "source": [
    "import ifcopenshell"
   ]
  },
  {
   "cell_type": "code",
   "execution_count": 3,
   "metadata": {},
   "outputs": [],
   "source": [
    "m = ifcopenshell.open(\"data/Duplex_A.ifc\")\n",
    "#m = ifcopenshell.open(\"../data/231110AC-11-Smiley-West-04-07-2007.ifc\")"
   ]
  },
  {
   "cell_type": "code",
   "execution_count": 4,
   "metadata": {},
   "outputs": [],
   "source": [
    "rooms = m.by_type(\"IfcSpace\")"
   ]
  },
  {
   "cell_type": "code",
   "execution_count": 5,
   "metadata": {},
   "outputs": [
    {
     "data": {
      "text/plain": [
       "21"
      ]
     },
     "execution_count": 5,
     "metadata": {},
     "output_type": "execute_result"
    }
   ],
   "source": [
    "len(rooms)"
   ]
  },
  {
   "cell_type": "code",
   "execution_count": 6,
   "metadata": {},
   "outputs": [],
   "source": [
    "r = rooms[2]"
   ]
  },
  {
   "cell_type": "code",
   "execution_count": 7,
   "metadata": {},
   "outputs": [
    {
     "data": {
      "text/plain": [
       "#1928=IfcSpace('0BTBFw6f90Nfh9rP1dl_3P',#33,'B104','',$,#1917,#1927,'Bathroom 1',.ELEMENT.,.INTERNAL.,$)"
      ]
     },
     "execution_count": 7,
     "metadata": {},
     "output_type": "execute_result"
    }
   ],
   "source": [
    "r"
   ]
  },
  {
   "cell_type": "code",
   "execution_count": 8,
   "metadata": {},
   "outputs": [
    {
     "data": {
      "text/plain": [
       "{#1931=IfcRelDefinesByProperties('1vwWpLunP7Z8FUDxnwGsLX',#33,$,$,(#1928),#1930),\n",
       " #2045=IfcRelDefinesByProperties('1jXMmAObv0Hu3Dpe4J75XR',#33,$,$,(#1928),#2044),\n",
       " #2071=IfcRelDefinesByProperties('1yk3uGxCn2xAd5LVDuWQpz',#33,$,$,(#1928),#2070),\n",
       " #2073=IfcRelDefinesByProperties('2Aev3rsmjERh$PzhdZ9sae',#33,$,$,(#1928),#2072),\n",
       " #2075=IfcRelDefinesByProperties('29A592s2zDtA8O1HY743gi',#33,$,$,(#1928),#2074),\n",
       " #2077=IfcRelDefinesByProperties('2EYry8dpj1aedcHhTWWR5_',#33,$,$,(#1928),#2076),\n",
       " #2079=IfcRelDefinesByProperties('0NaXw2iR1EBuKa8Xg1RIe1',#33,$,$,(#1928),#2078),\n",
       " #38297=IfcRelAggregates('2SL_IUiH54GP6$rzyEgw3l',#33,$,$,#39,(#67,#212,#355,#514,#1627,#1782,#1928,#2108,#3456,#3586)),\n",
       " #38804=IfcRelSpaceBoundary('3c$xyphFr0dwUMO2fin7Rk',#33,'1stLevel',$,#1928,#23671,#1941,.PHYSICAL.,.INTERNAL.),\n",
       " #38805=IfcRelSpaceBoundary('2c2En85dLEeB9F0b8J3_ve',#33,'1stLevel',$,#1928,#23768,#1952,.PHYSICAL.,.INTERNAL.),\n",
       " #38806=IfcRelSpaceBoundary('1zFkNKrw5EzuGg_6R0YeH3',#33,'1stLevel',$,#1928,#23826,#1963,.PHYSICAL.,.INTERNAL.),\n",
       " #38807=IfcRelSpaceBoundary('24DAyXxRXERuPWzgeBWpjg',#33,'1stLevel',$,#1928,#5165,#1985,.PHYSICAL.,.INTERNAL.),\n",
       " #38808=IfcRelSpaceBoundary('24o0FqPwj0txKWGEXS_7nD',#33,'1stLevel',$,#1928,#5165,#1986,.PHYSICAL.,.INTERNAL.),\n",
       " #38809=IfcRelSpaceBoundary('2hGbUOwNj5TR_8GqqAAJXu',#33,'1stLevel',$,#1928,#21545,#1997,.PHYSICAL.,.INTERNAL.),\n",
       " #38810=IfcRelSpaceBoundary('0RxjjfO$D2fw3NKvkDdDx2',#33,'1stLevel',$,#1928,#4219,#2004,.PHYSICAL.,.INTERNAL.),\n",
       " #38811=IfcRelSpaceBoundary('1nb93mV7H9TPktEdLEgrCV',#33,'1stLevel',$,#1928,#8169,#2011,.PHYSICAL.,.INTERNAL.),\n",
       " #38812=IfcRelSpaceBoundary('2F_V8bQAX2uAfdZ0QSu0pk',#33,'1stLevel',$,#1928,#4399,#2018,.PHYSICAL.,.EXTERNAL.),\n",
       " #38813=IfcRelSpaceBoundary('2egbDLoAX48uUHGh_Ss$na',#33,'1stLevel',$,#1928,#24680,#2025,.PHYSICAL.,.INTERNAL.),\n",
       " #38814=IfcRelSpaceBoundary('2Bqhax6nLEcfMw$nf$$v_v',#33,'1stLevel',$,#1928,#24680,#2032,.PHYSICAL.,.INTERNAL.),\n",
       " #38815=IfcRelSpaceBoundary('3V3Z94lIz7hxuzP2B5aZEz',#33,'1stLevel',$,#1928,#24723,#2039,.PHYSICAL.,.INTERNAL.)}"
      ]
     },
     "execution_count": 8,
     "metadata": {},
     "output_type": "execute_result"
    }
   ],
   "source": [
    "m.get_inverse(r)"
   ]
  },
  {
   "cell_type": "code",
   "execution_count": 9,
   "metadata": {},
   "outputs": [
    {
     "data": {
      "text/plain": [
       "#2044=IfcPropertySet('1QCvFS1aX1VArX3QmOThbz',#33,'Pset_SpaceCommon',$,(#2040,#2041,#2042,#2043))"
      ]
     },
     "execution_count": 9,
     "metadata": {},
     "output_type": "execute_result"
    }
   ],
   "source": [
    "r.IsDefinedBy[1].RelatingPropertyDefinition"
   ]
  },
  {
   "cell_type": "code",
   "execution_count": 10,
   "metadata": {},
   "outputs": [
    {
     "data": {
      "text/plain": [
       "[#1928=IfcSpace('0BTBFw6f90Nfh9rP1dl_3P',#33,'B104','',$,#1917,#1927,'Bathroom 1',.ELEMENT.,.INTERNAL.,$),\n",
       " #33=IfcOwnerHistory(#32,#2,$,.NOCHANGE.,$,$,$,0),\n",
       " #1917=IfcLocalPlacement(#38,#1916),\n",
       " #1927=IfcProductDefinitionShape($,$,(#1926))]"
      ]
     },
     "execution_count": 10,
     "metadata": {},
     "output_type": "execute_result"
    }
   ],
   "source": [
    "m.traverse(r, max_levels=1)"
   ]
  },
  {
   "cell_type": "markdown",
   "metadata": {},
   "source": [
    "## Visualizing the model graph"
   ]
  },
  {
   "cell_type": "code",
   "execution_count": 11,
   "metadata": {},
   "outputs": [
    {
     "data": {
      "text/plain": [
       "{'id': 1928,\n",
       " 'type': 'IfcSpace',\n",
       " 'GlobalId': '0BTBFw6f90Nfh9rP1dl_3P',\n",
       " 'OwnerHistory': #33=IfcOwnerHistory(#32,#2,$,.NOCHANGE.,$,$,$,0),\n",
       " 'Name': 'B104',\n",
       " 'Description': '',\n",
       " 'ObjectType': None,\n",
       " 'ObjectPlacement': #1917=IfcLocalPlacement(#38,#1916),\n",
       " 'Representation': #1927=IfcProductDefinitionShape($,$,(#1926)),\n",
       " 'LongName': 'Bathroom 1',\n",
       " 'CompositionType': 'ELEMENT',\n",
       " 'InteriorOrExteriorSpace': 'INTERNAL',\n",
       " 'ElevationWithFlooring': None}"
      ]
     },
     "execution_count": 11,
     "metadata": {},
     "output_type": "execute_result"
    }
   ],
   "source": [
    "r.get_info()"
   ]
  },
  {
   "cell_type": "code",
   "execution_count": 12,
   "metadata": {},
   "outputs": [
    {
     "data": {
      "image/svg+xml": "<?xml version=\"1.0\" encoding=\"UTF-8\" standalone=\"no\"?>\n<!DOCTYPE svg PUBLIC \"-//W3C//DTD SVG 1.1//EN\"\n \"http://www.w3.org/Graphics/SVG/1.1/DTD/svg11.dtd\">\n<!-- Generated by graphviz version 5.0.0 (20220707.1540)\n -->\n<!-- Pages: 1 -->\n<svg width=\"987pt\" height=\"329pt\"\n viewBox=\"0.00 0.00 987.00 329.00\" xmlns=\"http://www.w3.org/2000/svg\" xmlns:xlink=\"http://www.w3.org/1999/xlink\">\n<g id=\"graph0\" class=\"graph\" transform=\"scale(1 1) rotate(0) translate(4 325)\">\n<polygon fill=\"white\" stroke=\"transparent\" points=\"-4,4 -4,-325 983,-325 983,4 -4,4\"/>\n<!-- 30 -->\n<g id=\"node1\" class=\"node\">\n<title>30</title>\n<polygon fill=\"none\" stroke=\"black\" points=\"844.5,-213.5 844.5,-320.5 945.5,-320.5 945.5,-213.5 844.5,-213.5\"/>\n<text text-anchor=\"middle\" x=\"895\" y=\"-310.1\" font-family=\"Arial\" font-size=\"8.00\">#30 </text>\n<text text-anchor=\"middle\" x=\"895\" y=\"-301.1\" font-family=\"Arial\" font-size=\"8.00\">(IfcPerson) </text>\n<text text-anchor=\"start\" x=\"852.5\" y=\"-283.1\" font-family=\"Arial\" font-size=\"8.00\">Id : None </text>\n<text text-anchor=\"start\" x=\"852.5\" y=\"-274.1\" font-family=\"Arial\" font-size=\"8.00\">FamilyName : None </text>\n<text text-anchor=\"start\" x=\"852.5\" y=\"-265.1\" font-family=\"Arial\" font-size=\"8.00\">GivenName : cskender </text>\n<text text-anchor=\"start\" x=\"852.5\" y=\"-256.1\" font-family=\"Arial\" font-size=\"8.00\">MiddleNames : None </text>\n<text text-anchor=\"start\" x=\"852.5\" y=\"-247.1\" font-family=\"Arial\" font-size=\"8.00\">PrefixTitles : None </text>\n<text text-anchor=\"start\" x=\"852.5\" y=\"-238.1\" font-family=\"Arial\" font-size=\"8.00\">SuffixTitles : None </text>\n<text text-anchor=\"start\" x=\"852.5\" y=\"-229.1\" font-family=\"Arial\" font-size=\"8.00\">Roles : None </text>\n<text text-anchor=\"start\" x=\"852.5\" y=\"-220.1\" font-family=\"Arial\" font-size=\"8.00\">Addresses : None </text>\n</g>\n<!-- 32 -->\n<g id=\"node2\" class=\"node\">\n<title>32</title>\n<polygon fill=\"none\" stroke=\"black\" points=\"528,-132 528,-176 648,-176 648,-132 528,-132\"/>\n<text text-anchor=\"middle\" x=\"588\" y=\"-165.6\" font-family=\"Arial\" font-size=\"8.00\">#32 </text>\n<text text-anchor=\"middle\" x=\"588\" y=\"-156.6\" font-family=\"Arial\" font-size=\"8.00\">(IfcPersonAndOrganization) </text>\n<text text-anchor=\"start\" x=\"536\" y=\"-138.6\" font-family=\"Arial\" font-size=\"8.00\">Roles : None </text>\n</g>\n<!-- 32&#45;&gt;30 -->\n<g id=\"edge1\" class=\"edge\">\n<title>32&#45;&gt;30</title>\n<path fill=\"none\" stroke=\"black\" d=\"M648.17,-175.92C701.93,-195.84 780.85,-225.08 834.67,-245.02\"/>\n<polygon fill=\"black\" stroke=\"black\" points=\"833.48,-248.31 844.08,-248.5 835.92,-241.75 833.48,-248.31\"/>\n<text text-anchor=\"middle\" x=\"754.5\" y=\"-229.6\" font-family=\"Arial\" font-size=\"8.00\">ThePerson</text>\n</g>\n<!-- 31 -->\n<g id=\"node3\" class=\"node\">\n<title>31</title>\n<polygon fill=\"none\" stroke=\"black\" points=\"852.5,-114 852.5,-194 937.5,-194 937.5,-114 852.5,-114\"/>\n<text text-anchor=\"middle\" x=\"895\" y=\"-183.6\" font-family=\"Arial\" font-size=\"8.00\">#31 </text>\n<text text-anchor=\"middle\" x=\"895\" y=\"-174.6\" font-family=\"Arial\" font-size=\"8.00\">(IfcOrganization) </text>\n<text text-anchor=\"start\" x=\"860.5\" y=\"-156.6\" font-family=\"Arial\" font-size=\"8.00\">Id : None </text>\n<text text-anchor=\"start\" x=\"860.5\" y=\"-147.6\" font-family=\"Arial\" font-size=\"8.00\">Name : </text>\n<text text-anchor=\"start\" x=\"860.5\" y=\"-138.6\" font-family=\"Arial\" font-size=\"8.00\">Description : </text>\n<text text-anchor=\"start\" x=\"860.5\" y=\"-129.6\" font-family=\"Arial\" font-size=\"8.00\">Roles : None </text>\n<text text-anchor=\"start\" x=\"860.5\" y=\"-120.6\" font-family=\"Arial\" font-size=\"8.00\">Addresses : None </text>\n</g>\n<!-- 32&#45;&gt;31 -->\n<g id=\"edge2\" class=\"edge\">\n<title>32&#45;&gt;31</title>\n<path fill=\"none\" stroke=\"black\" d=\"M648.17,-154C704.48,-154 788.37,-154 842.13,-154\"/>\n<polygon fill=\"black\" stroke=\"black\" points=\"842.13,-157.5 852.13,-154 842.13,-150.5 842.13,-157.5\"/>\n<text text-anchor=\"middle\" x=\"754.5\" y=\"-156.6\" font-family=\"Arial\" font-size=\"8.00\">TheOrganization</text>\n</g>\n<!-- 33 -->\n<g id=\"node4\" class=\"node\">\n<title>33</title>\n<polygon fill=\"none\" stroke=\"black\" points=\"239,-65.5 239,-154.5 373,-154.5 373,-65.5 239,-65.5\"/>\n<text text-anchor=\"middle\" x=\"306\" y=\"-144.1\" font-family=\"Arial\" font-size=\"8.00\">#33 </text>\n<text text-anchor=\"middle\" x=\"306\" y=\"-135.1\" font-family=\"Arial\" font-size=\"8.00\">(IfcOwnerHistory) </text>\n<text text-anchor=\"start\" x=\"247\" y=\"-117.1\" font-family=\"Arial\" font-size=\"8.00\">State : None </text>\n<text text-anchor=\"start\" x=\"247\" y=\"-108.1\" font-family=\"Arial\" font-size=\"8.00\">ChangeAction : NOCHANGE </text>\n<text text-anchor=\"start\" x=\"247\" y=\"-99.1\" font-family=\"Arial\" font-size=\"8.00\">LastModifiedDate : None </text>\n<text text-anchor=\"start\" x=\"247\" y=\"-90.1\" font-family=\"Arial\" font-size=\"8.00\">LastModifyingUser : None </text>\n<text text-anchor=\"start\" x=\"247\" y=\"-81.1\" font-family=\"Arial\" font-size=\"8.00\">LastModifyingApplication : None </text>\n<text text-anchor=\"start\" x=\"247\" y=\"-72.1\" font-family=\"Arial\" font-size=\"8.00\">CreationDate : 0 </text>\n</g>\n<!-- 33&#45;&gt;32 -->\n<g id=\"edge3\" class=\"edge\">\n<title>33&#45;&gt;32</title>\n<path fill=\"none\" stroke=\"black\" d=\"M373,-120.37C416.5,-127.21 473.37,-136.14 517.56,-143.09\"/>\n<polygon fill=\"black\" stroke=\"black\" points=\"517.21,-146.58 527.64,-144.67 518.3,-139.66 517.21,-146.58\"/>\n<text text-anchor=\"middle\" x=\"425.5\" y=\"-135.6\" font-family=\"Arial\" font-size=\"8.00\">OwningUser</text>\n</g>\n<!-- 2 -->\n<g id=\"node6\" class=\"node\">\n<title>2</title>\n<polygon fill=\"none\" stroke=\"black\" points=\"478,-38 478,-100 698,-100 698,-38 478,-38\"/>\n<text text-anchor=\"middle\" x=\"588\" y=\"-89.6\" font-family=\"Arial\" font-size=\"8.00\">#2 </text>\n<text text-anchor=\"middle\" x=\"588\" y=\"-80.6\" font-family=\"Arial\" font-size=\"8.00\">(IfcApplication) </text>\n<text text-anchor=\"start\" x=\"486\" y=\"-62.6\" font-family=\"Arial\" font-size=\"8.00\">Version : 2011 </text>\n<text text-anchor=\"start\" x=\"486\" y=\"-53.6\" font-family=\"Arial\" font-size=\"8.00\">ApplicationFullName : Autodesk Revit Architecture 2011 </text>\n<text text-anchor=\"start\" x=\"486\" y=\"-44.6\" font-family=\"Arial\" font-size=\"8.00\">ApplicationIdentifier : Revit </text>\n</g>\n<!-- 33&#45;&gt;2 -->\n<g id=\"edge5\" class=\"edge\">\n<title>33&#45;&gt;2</title>\n<path fill=\"none\" stroke=\"black\" d=\"M373,-100.34C401.35,-96.18 435.39,-91.2 467.89,-86.44\"/>\n<polygon fill=\"black\" stroke=\"black\" points=\"468.53,-89.89 477.91,-84.97 467.51,-82.96 468.53,-89.89\"/>\n<text text-anchor=\"middle\" x=\"425.5\" y=\"-98.6\" font-family=\"Arial\" font-size=\"8.00\">OwningApplication</text>\n</g>\n<!-- 1 -->\n<g id=\"node5\" class=\"node\">\n<title>1</title>\n<polygon fill=\"none\" stroke=\"black\" points=\"811,-15 811,-95 979,-95 979,-15 811,-15\"/>\n<text text-anchor=\"middle\" x=\"895\" y=\"-84.6\" font-family=\"Arial\" font-size=\"8.00\">#1 </text>\n<text text-anchor=\"middle\" x=\"895\" y=\"-75.6\" font-family=\"Arial\" font-size=\"8.00\">(IfcOrganization) </text>\n<text text-anchor=\"start\" x=\"819\" y=\"-57.6\" font-family=\"Arial\" font-size=\"8.00\">Id : None </text>\n<text text-anchor=\"start\" x=\"819\" y=\"-48.6\" font-family=\"Arial\" font-size=\"8.00\">Name : Autodesk Revit Architecture 2011 </text>\n<text text-anchor=\"start\" x=\"819\" y=\"-39.6\" font-family=\"Arial\" font-size=\"8.00\">Description : None </text>\n<text text-anchor=\"start\" x=\"819\" y=\"-30.6\" font-family=\"Arial\" font-size=\"8.00\">Roles : None </text>\n<text text-anchor=\"start\" x=\"819\" y=\"-21.6\" font-family=\"Arial\" font-size=\"8.00\">Addresses : None </text>\n</g>\n<!-- 2&#45;&gt;1 -->\n<g id=\"edge4\" class=\"edge\">\n<title>2&#45;&gt;1</title>\n<path fill=\"none\" stroke=\"black\" d=\"M698.25,-63.99C731.72,-62.45 768.22,-60.77 800.54,-59.29\"/>\n<polygon fill=\"black\" stroke=\"black\" points=\"801.04,-62.77 810.87,-58.82 800.72,-55.78 801.04,-62.77\"/>\n<text text-anchor=\"middle\" x=\"754.5\" y=\"-64.6\" font-family=\"Arial\" font-size=\"8.00\">ApplicationDeveloper</text>\n</g>\n<!-- 34 -->\n<g id=\"node7\" class=\"node\">\n<title>34</title>\n<polygon fill=\"none\" stroke=\"black\" points=\"0,-0.5 0,-89.5 151,-89.5 151,-0.5 0,-0.5\"/>\n<text text-anchor=\"middle\" x=\"75.5\" y=\"-79.1\" font-family=\"Arial\" font-size=\"8.00\">#34 </text>\n<text text-anchor=\"middle\" x=\"75.5\" y=\"-70.1\" font-family=\"Arial\" font-size=\"8.00\">(IfcProject) </text>\n<text text-anchor=\"start\" x=\"8\" y=\"-52.1\" font-family=\"Arial\" font-size=\"8.00\">GlobalId : 1xS3BCk291UvhgP2a6eflL </text>\n<text text-anchor=\"start\" x=\"8\" y=\"-43.1\" font-family=\"Arial\" font-size=\"8.00\">Name : 0001 </text>\n<text text-anchor=\"start\" x=\"8\" y=\"-34.1\" font-family=\"Arial\" font-size=\"8.00\">Description : None </text>\n<text text-anchor=\"start\" x=\"8\" y=\"-25.1\" font-family=\"Arial\" font-size=\"8.00\">ObjectType : None </text>\n<text text-anchor=\"start\" x=\"8\" y=\"-16.1\" font-family=\"Arial\" font-size=\"8.00\">LongName : Duplex Apartment </text>\n<text text-anchor=\"start\" x=\"8\" y=\"-7.1\" font-family=\"Arial\" font-size=\"8.00\">Phase : Project Status </text>\n</g>\n<!-- 34&#45;&gt;33 -->\n<g id=\"edge6\" class=\"edge\">\n<title>34&#45;&gt;33</title>\n<path fill=\"none\" stroke=\"black\" d=\"M151,-66.19C175.95,-73.29 203.79,-81.21 228.86,-88.34\"/>\n<polygon fill=\"black\" stroke=\"black\" points=\"228.11,-91.77 238.69,-91.14 230.03,-85.03 228.11,-91.77\"/>\n<text text-anchor=\"middle\" x=\"195\" y=\"-87.6\" font-family=\"Arial\" font-size=\"8.00\">OwnerHistory</text>\n</g>\n<!-- 23 -->\n<g id=\"node8\" class=\"node\">\n<title>23</title>\n<polygon fill=\"none\" stroke=\"black\" points=\"261,-11.5 261,-46.5 351,-46.5 351,-11.5 261,-11.5\"/>\n<text text-anchor=\"middle\" x=\"306\" y=\"-36.1\" font-family=\"Arial\" font-size=\"8.00\">#23 </text>\n<text text-anchor=\"middle\" x=\"306\" y=\"-27.1\" font-family=\"Arial\" font-size=\"8.00\">(IfcUnitAssignment) </text>\n</g>\n<!-- 34&#45;&gt;23 -->\n<g id=\"edge7\" class=\"edge\">\n<title>34&#45;&gt;23</title>\n<path fill=\"none\" stroke=\"black\" d=\"M151,-39.78C183.51,-37.51 220.91,-34.89 250.72,-32.8\"/>\n<polygon fill=\"black\" stroke=\"black\" points=\"251.19,-36.28 260.93,-32.09 250.71,-29.29 251.19,-36.28\"/>\n<text text-anchor=\"middle\" x=\"195\" y=\"-41.6\" font-family=\"Arial\" font-size=\"8.00\">UnitsInContext</text>\n</g>\n</g>\n</svg>\n",
      "text/plain": [
       "<graphviz.graphs.Digraph at 0x2769e785480>"
      ]
     },
     "execution_count": 12,
     "metadata": {},
     "output_type": "execute_result"
    }
   ],
   "source": [
    "from utils import IfcGraphViz\n",
    "#graph = IfcGraphViz.IfcGraphViz().plot_graph(m, r)\n",
    "test = m.by_type(\"IfcProject\")[0]\n",
    "graph = IfcGraphViz.IfcGraphViz().plot_graph(m, test)\n",
    "graph"
   ]
  },
  {
   "cell_type": "code",
   "execution_count": 13,
   "metadata": {},
   "outputs": [
    {
     "data": {
      "text/plain": [
       "{'id': 33,\n",
       " 'type': 'IfcOwnerHistory',\n",
       " 'OwningUser': #32=IfcPersonAndOrganization(#30,#31,$),\n",
       " 'OwningApplication': #2=IfcApplication(#1,'2011','Autodesk Revit Architecture 2011','Revit'),\n",
       " 'State': None,\n",
       " 'ChangeAction': 'NOCHANGE',\n",
       " 'LastModifiedDate': None,\n",
       " 'LastModifyingUser': None,\n",
       " 'LastModifyingApplication': None,\n",
       " 'CreationDate': 0}"
      ]
     },
     "execution_count": 13,
     "metadata": {},
     "output_type": "execute_result"
    }
   ],
   "source": [
    "history = m.by_id(33)\n",
    "history.get_info()"
   ]
  },
  {
   "cell_type": "code",
   "execution_count": 14,
   "metadata": {},
   "outputs": [
    {
     "data": {
      "text/html": [
       "\n",
       "        <iframe\n",
       "            width=\"100%\"\n",
       "            height=\"500px\"\n",
       "            src=\"https://standards.buildingsmart.org/IFC/RELEASE/IFC4/ADD2_TC1/HTML/schema/ifcactorresource/lexical/ifcpersonandorganization.htm\"\n",
       "            frameborder=\"0\"\n",
       "            allowfullscreen\n",
       "            \n",
       "        ></iframe>\n",
       "        "
      ],
      "text/plain": [
       "<IPython.lib.display.IFrame at 0x2769eef7160>"
      ]
     },
     "execution_count": 14,
     "metadata": {},
     "output_type": "execute_result"
    }
   ],
   "source": [
    "IfcHelp.getHelp4(\"IfcPersonAndOrganization\")"
   ]
  },
  {
   "cell_type": "markdown",
   "metadata": {},
   "source": [
    "# Plot inverse relations"
   ]
  },
  {
   "cell_type": "code",
   "execution_count": 15,
   "metadata": {},
   "outputs": [
    {
     "name": "stdout",
     "output_type": "stream",
     "text": [
      "#4131=IfcWallStandardCase('2O2Fr$t4X7Zf8NOew3FNld',#33,'Basic Wall:Interior - Partition (92mm Stud):138584',$,'Basic Wall:Interior - Partition (92mm Stud):128360',#4118,#4130,'138584')\n"
     ]
    },
    {
     "data": {
      "image/svg+xml": "<?xml version=\"1.0\" encoding=\"UTF-8\" standalone=\"no\"?>\n<!DOCTYPE svg PUBLIC \"-//W3C//DTD SVG 1.1//EN\"\n \"http://www.w3.org/Graphics/SVG/1.1/DTD/svg11.dtd\">\n<!-- Generated by graphviz version 5.0.0 (20220707.1540)\n -->\n<!-- Pages: 1 -->\n<svg width=\"248pt\" height=\"422pt\"\n viewBox=\"0.00 0.00 248.00 422.00\" xmlns=\"http://www.w3.org/2000/svg\" xmlns:xlink=\"http://www.w3.org/1999/xlink\">\n<g id=\"graph0\" class=\"graph\" transform=\"scale(1 1) rotate(0) translate(4 418)\">\n<polygon fill=\"white\" stroke=\"transparent\" points=\"-4,4 -4,-418 244,-418 244,4 -4,4\"/>\n<!-- 4131 -->\n<g id=\"node1\" class=\"node\">\n<title>4131</title>\n<polygon fill=\"none\" stroke=\"black\" points=\"168,-198.5 168,-215.5 240,-215.5 240,-198.5 168,-198.5\"/>\n<text text-anchor=\"middle\" x=\"204\" y=\"-205.1\" font-family=\"Arial\" font-size=\"8.00\">#4131</text>\n</g>\n<!-- 4135 -->\n<g id=\"node2\" class=\"node\">\n<title>4135</title>\n<polygon fill=\"none\" stroke=\"black\" points=\"0,-396.5 0,-413.5 72,-413.5 72,-396.5 0,-396.5\"/>\n<text text-anchor=\"middle\" x=\"36\" y=\"-403.1\" font-family=\"Arial\" font-size=\"8.00\">4135</text>\n</g>\n<!-- 4135&#45;&gt;4131 -->\n<g id=\"edge1\" class=\"edge\">\n<title>4135&#45;&gt;4131</title>\n<path fill=\"none\" stroke=\"black\" d=\"M72.1,-404.98C96.86,-403.1 129.19,-396.61 150,-377 193.26,-336.24 201.43,-260.81 202.82,-225.78\"/>\n<polygon fill=\"black\" stroke=\"black\" points=\"206.33,-225.65 203.08,-215.56 199.33,-225.47 206.33,-225.65\"/>\n<text text-anchor=\"middle\" x=\"120\" y=\"-404.6\" font-family=\"Arial\" font-size=\"8.00\">RelatedObjects</text>\n</g>\n<!-- 38298 -->\n<g id=\"node3\" class=\"node\">\n<title>38298</title>\n<polygon fill=\"none\" stroke=\"black\" points=\"0,-360.5 0,-377.5 72,-377.5 72,-360.5 0,-360.5\"/>\n<text text-anchor=\"middle\" x=\"36\" y=\"-367.1\" font-family=\"Arial\" font-size=\"8.00\">38298</text>\n</g>\n<!-- 38298&#45;&gt;4131 -->\n<g id=\"edge2\" class=\"edge\">\n<title>38298&#45;&gt;4131</title>\n<path fill=\"none\" stroke=\"black\" d=\"M72.21,-367.36C96.69,-364.48 128.65,-357 150,-338 183.51,-308.19 196.19,-254.15 200.7,-225.69\"/>\n<polygon fill=\"black\" stroke=\"black\" points=\"204.2,-225.9 202.13,-215.51 197.27,-224.93 204.2,-225.9\"/>\n<text text-anchor=\"middle\" x=\"120\" y=\"-366.6\" font-family=\"Arial\" font-size=\"8.00\">RelatedElements</text>\n</g>\n<!-- 4190 -->\n<g id=\"node4\" class=\"node\">\n<title>4190</title>\n<polygon fill=\"none\" stroke=\"black\" points=\"0,-324.5 0,-341.5 72,-341.5 72,-324.5 0,-324.5\"/>\n<text text-anchor=\"middle\" x=\"36\" y=\"-331.1\" font-family=\"Arial\" font-size=\"8.00\">4190</text>\n</g>\n<!-- 4190&#45;&gt;4131 -->\n<g id=\"edge3\" class=\"edge\">\n<title>4190&#45;&gt;4131</title>\n<path fill=\"none\" stroke=\"black\" d=\"M72.25,-329.27C96.29,-325.19 127.68,-316.69 150,-299 174.36,-279.69 189.62,-245.91 197.2,-225.09\"/>\n<polygon fill=\"black\" stroke=\"black\" points=\"200.55,-226.13 200.48,-215.54 193.93,-223.86 200.55,-226.13\"/>\n<text text-anchor=\"middle\" x=\"120\" y=\"-327.6\" font-family=\"Arial\" font-size=\"8.00\">RelatedObjects</text>\n</g>\n<!-- 38540 -->\n<g id=\"node5\" class=\"node\">\n<title>38540</title>\n<polygon fill=\"none\" stroke=\"black\" points=\"0,-288.5 0,-305.5 72,-305.5 72,-288.5 0,-288.5\"/>\n<text text-anchor=\"middle\" x=\"36\" y=\"-295.1\" font-family=\"Arial\" font-size=\"8.00\">38540</text>\n</g>\n<!-- 38540&#45;&gt;4131 -->\n<g id=\"edge4\" class=\"edge\">\n<title>38540&#45;&gt;4131</title>\n<path fill=\"none\" stroke=\"black\" d=\"M72.02,-290.91C95.37,-285.74 126.04,-276.76 150,-262 166.17,-252.04 180.84,-236.01 190.62,-223.81\"/>\n<polygon fill=\"black\" stroke=\"black\" points=\"193.5,-225.81 196.83,-215.76 187.96,-221.54 193.5,-225.81\"/>\n<text text-anchor=\"middle\" x=\"120\" y=\"-288.6\" font-family=\"Arial\" font-size=\"8.00\">RelatedObjects</text>\n</g>\n<!-- 38541 -->\n<g id=\"node6\" class=\"node\">\n<title>38541</title>\n<polygon fill=\"none\" stroke=\"black\" points=\"0,-252.5 0,-269.5 72,-269.5 72,-252.5 0,-252.5\"/>\n<text text-anchor=\"middle\" x=\"36\" y=\"-259.1\" font-family=\"Arial\" font-size=\"8.00\">38541</text>\n</g>\n<!-- 38541&#45;&gt;4131 -->\n<g id=\"edge5\" class=\"edge\">\n<title>38541&#45;&gt;4131</title>\n<path fill=\"none\" stroke=\"black\" d=\"M72.13,-253.79C94.7,-248.72 124.47,-241.2 150,-232 159.18,-228.69 168.92,-224.35 177.51,-220.22\"/>\n<polygon fill=\"black\" stroke=\"black\" points=\"179.22,-223.28 186.63,-215.71 176.12,-217 179.22,-223.28\"/>\n<text text-anchor=\"middle\" x=\"120\" y=\"-251.6\" font-family=\"Arial\" font-size=\"8.00\">RelatedObjects</text>\n</g>\n<!-- 4186 -->\n<g id=\"node7\" class=\"node\">\n<title>4186</title>\n<polygon fill=\"none\" stroke=\"black\" points=\"0,-216.5 0,-233.5 72,-233.5 72,-216.5 0,-216.5\"/>\n<text text-anchor=\"middle\" x=\"36\" y=\"-223.1\" font-family=\"Arial\" font-size=\"8.00\">4186</text>\n</g>\n<!-- 4186&#45;&gt;4131 -->\n<g id=\"edge6\" class=\"edge\">\n<title>4186&#45;&gt;4131</title>\n<path fill=\"none\" stroke=\"black\" d=\"M72.2,-221.18C97.18,-218.47 130.92,-214.82 157.88,-211.89\"/>\n<polygon fill=\"black\" stroke=\"black\" points=\"158.28,-215.37 167.85,-210.81 157.53,-208.41 158.28,-215.37\"/>\n<text text-anchor=\"middle\" x=\"120\" y=\"-221.6\" font-family=\"Arial\" font-size=\"8.00\">RelatedObjects</text>\n</g>\n<!-- 38360 -->\n<g id=\"node8\" class=\"node\">\n<title>38360</title>\n<polygon fill=\"none\" stroke=\"black\" points=\"0,-180.5 0,-197.5 72,-197.5 72,-180.5 0,-180.5\"/>\n<text text-anchor=\"middle\" x=\"36\" y=\"-187.1\" font-family=\"Arial\" font-size=\"8.00\">38360</text>\n</g>\n<!-- 38360&#45;&gt;4131 -->\n<g id=\"edge7\" class=\"edge\">\n<title>38360&#45;&gt;4131</title>\n<path fill=\"none\" stroke=\"black\" d=\"M72.18,-191.55C94.51,-193.31 123.99,-195.89 150,-199 152.55,-199.3 155.16,-199.64 157.79,-199.99\"/>\n<polygon fill=\"black\" stroke=\"black\" points=\"157.59,-203.49 167.98,-201.4 158.55,-196.56 157.59,-203.49\"/>\n<text text-anchor=\"middle\" x=\"120\" y=\"-201.6\" font-family=\"Arial\" font-size=\"8.00\">RelatedObjects</text>\n</g>\n<!-- 38538 -->\n<g id=\"node9\" class=\"node\">\n<title>38538</title>\n<polygon fill=\"none\" stroke=\"black\" points=\"0,-144.5 0,-161.5 72,-161.5 72,-144.5 0,-144.5\"/>\n<text text-anchor=\"middle\" x=\"36\" y=\"-151.1\" font-family=\"Arial\" font-size=\"8.00\">38538</text>\n</g>\n<!-- 38538&#45;&gt;4131 -->\n<g id=\"edge8\" class=\"edge\">\n<title>38538&#45;&gt;4131</title>\n<path fill=\"none\" stroke=\"black\" d=\"M72.25,-159.19C94.87,-163.7 124.64,-170.66 150,-180 160.07,-183.71 170.7,-188.85 179.77,-193.66\"/>\n<polygon fill=\"black\" stroke=\"black\" points=\"178.12,-196.75 188.57,-198.47 181.47,-190.6 178.12,-196.75\"/>\n<text text-anchor=\"middle\" x=\"120\" y=\"-182.6\" font-family=\"Arial\" font-size=\"8.00\">RelatedObjects</text>\n</g>\n<!-- 38539 -->\n<g id=\"node10\" class=\"node\">\n<title>38539</title>\n<polygon fill=\"none\" stroke=\"black\" points=\"0,-108.5 0,-125.5 72,-125.5 72,-108.5 0,-108.5\"/>\n<text text-anchor=\"middle\" x=\"36\" y=\"-115.1\" font-family=\"Arial\" font-size=\"8.00\">38539</text>\n</g>\n<!-- 38539&#45;&gt;4131 -->\n<g id=\"edge9\" class=\"edge\">\n<title>38539&#45;&gt;4131</title>\n<path fill=\"none\" stroke=\"black\" d=\"M72.11,-122.23C95.49,-126.88 126.17,-135.29 150,-150 166.66,-160.28 181.43,-177.17 191.12,-189.91\"/>\n<polygon fill=\"black\" stroke=\"black\" points=\"188.51,-192.27 197.23,-198.29 194.17,-188.15 188.51,-192.27\"/>\n<text text-anchor=\"middle\" x=\"120\" y=\"-152.6\" font-family=\"Arial\" font-size=\"8.00\">RelatedObjects</text>\n</g>\n<!-- 4192 -->\n<g id=\"node11\" class=\"node\">\n<title>4192</title>\n<polygon fill=\"none\" stroke=\"black\" points=\"0,-72.5 0,-89.5 72,-89.5 72,-72.5 0,-72.5\"/>\n<text text-anchor=\"middle\" x=\"36\" y=\"-79.1\" font-family=\"Arial\" font-size=\"8.00\">4192</text>\n</g>\n<!-- 4192&#45;&gt;4131 -->\n<g id=\"edge10\" class=\"edge\">\n<title>4192&#45;&gt;4131</title>\n<path fill=\"none\" stroke=\"black\" d=\"M72.02,-83.92C96.1,-87.49 127.65,-95.41 150,-113 174.82,-132.53 189.94,-167.11 197.37,-188.45\"/>\n<polygon fill=\"black\" stroke=\"black\" points=\"194.13,-189.82 200.56,-198.24 200.79,-187.65 194.13,-189.82\"/>\n<text text-anchor=\"middle\" x=\"120\" y=\"-115.6\" font-family=\"Arial\" font-size=\"8.00\">RelatedObjects</text>\n</g>\n<!-- 4188 -->\n<g id=\"node12\" class=\"node\">\n<title>4188</title>\n<polygon fill=\"none\" stroke=\"black\" points=\"0,-36.5 0,-53.5 72,-53.5 72,-36.5 0,-36.5\"/>\n<text text-anchor=\"middle\" x=\"36\" y=\"-43.1\" font-family=\"Arial\" font-size=\"8.00\">4188</text>\n</g>\n<!-- 4188&#45;&gt;4131 -->\n<g id=\"edge11\" class=\"edge\">\n<title>4188&#45;&gt;4131</title>\n<path fill=\"none\" stroke=\"black\" d=\"M72.2,-45.91C96.68,-48.31 128.63,-55.21 150,-74 184.27,-104.14 196.65,-159.47 200.9,-188.35\"/>\n<polygon fill=\"black\" stroke=\"black\" points=\"197.44,-188.86 202.2,-198.33 204.38,-187.96 197.44,-188.86\"/>\n<text text-anchor=\"middle\" x=\"120\" y=\"-76.6\" font-family=\"Arial\" font-size=\"8.00\">RelatedObjects</text>\n</g>\n<!-- 4194 -->\n<g id=\"node13\" class=\"node\">\n<title>4194</title>\n<polygon fill=\"none\" stroke=\"black\" points=\"0,-0.5 0,-17.5 72,-17.5 72,-0.5 0,-0.5\"/>\n<text text-anchor=\"middle\" x=\"36\" y=\"-7.1\" font-family=\"Arial\" font-size=\"8.00\">4194</text>\n</g>\n<!-- 4194&#45;&gt;4131 -->\n<g id=\"edge12\" class=\"edge\">\n<title>4194&#45;&gt;4131</title>\n<path fill=\"none\" stroke=\"black\" d=\"M72.08,-8.31C96.82,-9.71 129.14,-15.6 150,-35 194,-75.91 201.8,-152.39 202.96,-187.93\"/>\n<polygon fill=\"black\" stroke=\"black\" points=\"199.47,-188.37 203.14,-198.31 206.47,-188.25 199.47,-188.37\"/>\n<text text-anchor=\"middle\" x=\"120\" y=\"-37.6\" font-family=\"Arial\" font-size=\"8.00\">RelatedObjects</text>\n</g>\n</g>\n</svg>\n",
      "text/plain": [
       "<graphviz.graphs.Digraph at 0x2769eb36470>"
      ]
     },
     "execution_count": 15,
     "metadata": {},
     "output_type": "execute_result"
    }
   ],
   "source": [
    "#graph = IfcGraphViz.IfcGraphViz().plot_graph(m, r)\n",
    "print(m.by_type(\"IfcWall\")[0])\n",
    "graph = IfcGraphViz.IfcGraphViz().plot_reverse_graph(m, m.by_type(\"IfcWall\")[0])\n",
    "graph"
   ]
  },
  {
   "cell_type": "code",
   "execution_count": 16,
   "metadata": {},
   "outputs": [],
   "source": [
    "import ifcopenshell.util.element"
   ]
  },
  {
   "cell_type": "code",
   "execution_count": 17,
   "metadata": {},
   "outputs": [
    {
     "data": {
      "text/plain": [
       "{'GSA Space Areas': {'GSA BIM Area': 3.997752000000072, 'id': 1930},\n",
       " 'Pset_SpaceCommon': {'Reference': '',\n",
       "  'CeilingCovering': 'CeilingCovering',\n",
       "  'WallCovering': 'WallCovering',\n",
       "  'FloorCovering': 'FloorCovering',\n",
       "  'id': 2044},\n",
       " 'PSet_Revit_Identity Data': {'Number': 'B104',\n",
       "  'Name': 'Bathroom 1',\n",
       "  'OmniClass Table 13 Category': '13-41 11 14 11: Bathroom',\n",
       "  'id': 2070},\n",
       " 'PSet_Revit_Constraints': {'Level': 'Level 1',\n",
       "  'Upper Limit': 'Level 1',\n",
       "  'Limit Offset': 2.6,\n",
       "  'Base Offset': 0.0,\n",
       "  'id': 2072},\n",
       " 'PSet_Revit_Dimensions': {'Area': 3.997752000000072,\n",
       "  'Perimeter': 8.204000000000091,\n",
       "  'Unbounded Height': 2.6,\n",
       "  'Volume': 8.177444912000173,\n",
       "  'id': 2074},\n",
       " 'PSet_Revit_Phasing': {'Phase': 'New Construction', 'id': 2076},\n",
       " 'PSet_Revit_Other': {'CeilingCovering': 'CeilingCovering',\n",
       "  'FloorCovering': 'FloorCovering',\n",
       "  'WallCovering': 'WallCovering',\n",
       "  'LoadCapacity': 'LoadCapacity',\n",
       "  'Category Description': 'Bathroom',\n",
       "  'Category Code': '13-41 11 14 11',\n",
       "  'CirculationZoneName': 'Unit B CirculationZoneName',\n",
       "  'FireAlarmZoneName': 'Unit B FireAlarmZoneName',\n",
       "  'HistoricPreservationZoneName': 'Unit B HistoricPreservationZoneName',\n",
       "  'LightingZoneName': 'Unit B LightingZoneName',\n",
       "  'OccupancyZoneName': 'Unit B OccupancyZoneName',\n",
       "  'VentilationZoneName': 'Unit B VentilationZoneName',\n",
       "  'RoomTag': 'RoomTag',\n",
       "  'id': 2078}}"
      ]
     },
     "execution_count": 17,
     "metadata": {},
     "output_type": "execute_result"
    }
   ],
   "source": [
    "ifcopenshell.util.element.get_psets(r)"
   ]
  },
  {
   "cell_type": "code",
   "execution_count": 18,
   "metadata": {},
   "outputs": [],
   "source": [
    "walls = m.by_type(\"IfcWall\")"
   ]
  },
  {
   "cell_type": "markdown",
   "metadata": {},
   "source": [
    "Count the number of walls in the entire building: `len` gets the size of collection datatypes in python [Documentation here](https://docs.python.org/3.8/library/functions.html#len)"
   ]
  },
  {
   "cell_type": "code",
   "execution_count": 19,
   "metadata": {},
   "outputs": [
    {
     "data": {
      "text/plain": [
       "57"
      ]
     },
     "execution_count": 19,
     "metadata": {},
     "output_type": "execute_result"
    }
   ],
   "source": [
    "len(walls)"
   ]
  },
  {
   "cell_type": "code",
   "execution_count": 20,
   "metadata": {},
   "outputs": [
    {
     "data": {
      "text/plain": [
       "#5106=IfcWallStandardCase('2O2Fr$t4X7Zf8NOew3FK1b',#33,'Basic Wall:Foundation - Concrete (435mm):141018',$,'Basic Wall:Foundation - Concrete (435mm):207146',#5093,#5105,'141018')"
      ]
     },
     "execution_count": 20,
     "metadata": {},
     "output_type": "execute_result"
    }
   ],
   "source": [
    "wall = walls[12]\n",
    "wall"
   ]
  },
  {
   "cell_type": "code",
   "execution_count": 21,
   "metadata": {},
   "outputs": [
    {
     "data": {
      "text/plain": [
       "{'Pset_WallCommon': {'Reference': 'Basic Wall:Foundation - Concrete (435mm)',\n",
       "  'LoadBearing': True,\n",
       "  'ExtendToStructure': False,\n",
       "  'IsExternal': True,\n",
       "  'id': 5108},\n",
       " 'PSet_Revit_Constraints': {'Location Line': 0,\n",
       "  'Base Constraint': 'T/FDN',\n",
       "  'Base Offset': 0.0,\n",
       "  'Base is Attached': False,\n",
       "  'Base Extension Distance': 0.0,\n",
       "  'Top Constraint': 'Up to level: Level 1',\n",
       "  'Unconnected Height': 1.123,\n",
       "  'Top Offset': -0.127,\n",
       "  'Top is Attached': False,\n",
       "  'Top Extension Distance': 0.0,\n",
       "  'Room Bounding': True,\n",
       "  'Related to Mass': False,\n",
       "  'id': 5128},\n",
       " 'PSet_Revit_Other': {'InstallationDate': 'InstallationDate',\n",
       "  'SerialNumber': 'SerialNumber',\n",
       "  'WarrantyStartDate': 'WarrantyStartDate',\n",
       "  'BarCode': 'BarCode',\n",
       "  'AssetIdentifier': 'AssetIdentifier',\n",
       "  'TagNumber': 'TagNumber',\n",
       "  'id': 5130},\n",
       " 'PSet_Revit_Phasing': {'Phase Created': 'New Construction', 'id': 5132},\n",
       " 'PSet_Revit_Structural': {'Rebar Cover - Exterior Face': 'Rebar Cover 1 <0.025>',\n",
       "  'Rebar Cover - Interior Face': 'Rebar Cover 1 <0.025>',\n",
       "  'Rebar Cover - Other Faces': 'Rebar Cover 1 <0.025>',\n",
       "  'Structural Usage': 1,\n",
       "  'id': 5134},\n",
       " 'PSet_Revit_Dimensions': {'Length': 2.200000000000026,\n",
       "  'Area': 1.982095000000031,\n",
       "  'Volume': 0.8622113250000139,\n",
       "  'id': 5136},\n",
       " 'PSet_Revit_Analytical Model': {'Enable Analytical Model': True, 'id': 5138},\n",
       " 'PSet_Revit_Type_Construction': {'Wrapping at Inserts': 0,\n",
       "  'Wrapping at Ends': 0,\n",
       "  'Width': 0.435,\n",
       "  'Function': 2,\n",
       "  'id': 5035},\n",
       " 'PSet_Revit_Type_Graphics': {'Coarse Scale Fill Pattern': 'Concrete',\n",
       "  'Coarse Scale Fill Color': 0,\n",
       "  'id': 5036},\n",
       " 'PSet_Revit_Type_Identity Data': {'Manufacturer': 'Manufacturer',\n",
       "  'Assembly Description': '',\n",
       "  'Assembly Code': '',\n",
       "  'id': 5037},\n",
       " 'PSet_Revit_Type_Other': {'AccessibilityPerformance': 'AccessibilityPerformance',\n",
       "  'CodePerformance': 'CodePerformance',\n",
       "  'Color': 'Color',\n",
       "  'Constituents': 'Constituents',\n",
       "  'Features': 'Features',\n",
       "  'Finish': 'Finish',\n",
       "  'Grade': 'Grade',\n",
       "  'Material': 'Material',\n",
       "  'ModelReference': 'ModelReference',\n",
       "  'NominalHeight': 'NominalHeight',\n",
       "  'NominalLength': 'NominalLength',\n",
       "  'NominalWidth': 'NominalWidth',\n",
       "  'ProductionYear': 'ProductionYear',\n",
       "  'Reference': 'Reference',\n",
       "  'Shape': 'Shape',\n",
       "  'Size': 'Size',\n",
       "  'SustainabilityPerformance': 'SustainabilityPerformance',\n",
       "  'WarrantyDescription': 'WarrantyDescription',\n",
       "  'WarrantyDurationLabor': 'WarrantyDurationLabor',\n",
       "  'WarrantyDurationParts': 'WarrantyDurationParts',\n",
       "  'WarrantyGuarantorLabor': 'WarrantyGuarantorLabor',\n",
       "  'WarrantyGuarantorParts': 'WarrantyGuarantorParts',\n",
       "  'ExpectedLife': 'ExpectedLife',\n",
       "  'ReplacementCost': 'ReplacementCost',\n",
       "  'AssetAccountingType': 'FIXED',\n",
       "  'Classification Description': 'Concrete Structural Walls',\n",
       "  'Classification Code': '23-25 30 24 11',\n",
       "  'ModelLabel': 'ModelLabel',\n",
       "  'id': 5038}}"
      ]
     },
     "execution_count": 21,
     "metadata": {},
     "output_type": "execute_result"
    }
   ],
   "source": [
    "wall\n",
    "pset_for_wall = ifcopenshell.util.element.get_psets(wall)\n",
    "pset_for_wall"
   ]
  },
  {
   "cell_type": "markdown",
   "metadata": {},
   "source": [
    "## Find external walls.\n",
    "External walls in IFC-models should be have a value `True` for the property  **IsExternal**  in the standard \"Pset_WallCommon\". \n",
    "\n",
    "All external walls can be found by iterating over **all walls** and checking each one for the approriate value.\n",
    "\n",
    "Since **IsExternal** return strings \"True\" or \"False\" we can cast them to pyton  `bool`."
   ]
  },
  {
   "cell_type": "code",
   "execution_count": null,
   "metadata": {},
   "outputs": [],
   "source": []
  },
  {
   "cell_type": "code",
   "execution_count": 22,
   "metadata": {},
   "outputs": [
    {
     "data": {
      "text/plain": [
       "23"
      ]
     },
     "execution_count": 22,
     "metadata": {},
     "output_type": "execute_result"
    }
   ],
   "source": [
    "ext_walls = []\n",
    "for w in walls:\n",
    "    psets = ifcopenshell.util.element.get_psets(w)\n",
    "    if psets.get(\"Pset_WallCommon\"):\n",
    "        if bool(psets.get(\"Pset_WallCommon\").get(\"IsExternal\")):\n",
    "            ext_walls.append(w)\n",
    "\n",
    "len (ext_walls)"
   ]
  },
  {
   "cell_type": "code",
   "execution_count": 23,
   "metadata": {},
   "outputs": [
    {
     "ename": "ModuleNotFoundError",
     "evalue": "No module named 'OCC'",
     "output_type": "error",
     "traceback": [
      "\u001b[1;31m---------------------------------------------------------------------------\u001b[0m",
      "\u001b[1;31mModuleNotFoundError\u001b[0m                       Traceback (most recent call last)",
      "\u001b[1;32mc:\\Code Repositories\\ifcopenshell-notebooks\\05_1_ifc_documentation.ipynb Cell 29\u001b[0m in \u001b[0;36m<cell line: 1>\u001b[1;34m()\u001b[0m\n\u001b[1;32m----> <a href='vscode-notebook-cell:/c%3A/Code%20Repositories/ifcopenshell-notebooks/05_1_ifc_documentation.ipynb#X40sZmlsZQ%3D%3D?line=0'>1</a>\u001b[0m \u001b[39mfrom\u001b[39;00m \u001b[39mutils\u001b[39;00m\u001b[39m.\u001b[39;00m\u001b[39mJupyterIFCRenderer\u001b[39;00m \u001b[39mimport\u001b[39;00m JupyterIFCRenderer\n\u001b[0;32m      <a href='vscode-notebook-cell:/c%3A/Code%20Repositories/ifcopenshell-notebooks/05_1_ifc_documentation.ipynb#X40sZmlsZQ%3D%3D?line=1'>2</a>\u001b[0m viewer \u001b[39m=\u001b[39m JupyterIFCRenderer(m, size\u001b[39m=\u001b[39m(\u001b[39m400\u001b[39m,\u001b[39m300\u001b[39m))\n\u001b[0;32m      <a href='vscode-notebook-cell:/c%3A/Code%20Repositories/ifcopenshell-notebooks/05_1_ifc_documentation.ipynb#X40sZmlsZQ%3D%3D?line=2'>3</a>\u001b[0m viewer\n",
      "File \u001b[1;32mc:\\Code Repositories\\ifcopenshell-notebooks\\utils\\JupyterIFCRenderer.py:3\u001b[0m, in \u001b[0;36m<module>\u001b[1;34m\u001b[0m\n\u001b[0;32m      1\u001b[0m \u001b[39mimport\u001b[39;00m \u001b[39mos\u001b[39;00m\n\u001b[0;32m      2\u001b[0m \u001b[39mimport\u001b[39;00m \u001b[39mrandom\u001b[39;00m\n\u001b[1;32m----> 3\u001b[0m \u001b[39mfrom\u001b[39;00m \u001b[39mOCC\u001b[39;00m\u001b[39m.\u001b[39;00m\u001b[39mDisplay\u001b[39;00m\u001b[39m.\u001b[39;00m\u001b[39mWebGl\u001b[39;00m\u001b[39m.\u001b[39;00m\u001b[39mjupyter_renderer\u001b[39;00m \u001b[39mimport\u001b[39;00m JupyterRenderer, format_color, NORMAL, BoundingBox\n\u001b[0;32m      4\u001b[0m \u001b[39mfrom\u001b[39;00m \u001b[39mipywidgets\u001b[39;00m \u001b[39mimport\u001b[39;00m interact, interactive, fixed, interact_manual, IntSlider, Layout, FloatSlider\n\u001b[0;32m      5\u001b[0m \u001b[39mimport\u001b[39;00m \u001b[39mipywidgets\u001b[39;00m \u001b[39mas\u001b[39;00m \u001b[39mwidgets\u001b[39;00m\n",
      "\u001b[1;31mModuleNotFoundError\u001b[0m: No module named 'OCC'"
     ]
    }
   ],
   "source": [
    "from utils.JupyterIFCRenderer import JupyterIFCRenderer\n",
    "viewer = JupyterIFCRenderer(m, size=(400,300))\n",
    "viewer"
   ]
  },
  {
   "cell_type": "code",
   "execution_count": null,
   "metadata": {},
   "outputs": [],
   "source": [
    "viewer.setAllTransparent()"
   ]
  },
  {
   "cell_type": "code",
   "execution_count": null,
   "metadata": {},
   "outputs": [],
   "source": [
    "for wall in ext_walls:\n",
    "    viewer.setTransparentFalse(wall)\n",
    "    "
   ]
  },
  {
   "cell_type": "code",
   "execution_count": null,
   "metadata": {},
   "outputs": [
    {
     "ename": "NameError",
     "evalue": "name 'ext_wall' is not defined",
     "output_type": "error",
     "traceback": [
      "\u001b[0;31m---------------------------------------------------------------------------\u001b[0m",
      "\u001b[0;31mNameError\u001b[0m                                 Traceback (most recent call last)",
      "\u001b[0;32m<ipython-input-33-c77cc8a17401>\u001b[0m in \u001b[0;36m<module>\u001b[0;34m\u001b[0m\n\u001b[0;32m----> 1\u001b[0;31m \u001b[0mwall\u001b[0m \u001b[0;34m=\u001b[0m \u001b[0mext_wall\u001b[0m\u001b[0;34m[\u001b[0m\u001b[0;36m10\u001b[0m\u001b[0;34m]\u001b[0m\u001b[0;34m\u001b[0m\u001b[0;34m\u001b[0m\u001b[0m\n\u001b[0m\u001b[1;32m      2\u001b[0m \u001b[0mwall\u001b[0m\u001b[0;34m\u001b[0m\u001b[0;34m\u001b[0m\u001b[0m\n",
      "\u001b[0;31mNameError\u001b[0m: name 'ext_wall' is not defined"
     ]
    }
   ],
   "source": [
    "wall = ext_wall[10]\n",
    "wall"
   ]
  },
  {
   "cell_type": "code",
   "execution_count": null,
   "metadata": {},
   "outputs": [
    {
     "data": {
      "text/plain": [
       "[#10969=IfcRelContainedInSpatialStructure('1QPtU1ucskO7mlP9ScHMsN',#12,$,$,(#10954,#11059,#11130,#11201,#11272,#11373,#11497,#11586,#11675,#11764,#11873,#12402,#12514,#12827,#12935,#13044,#13152,#13256,#13409,#13504,#14002,#14097,#14241,#14335,#14479,#14574,#14718,#14812,#14929,#15043,#15147,#15256,#15405,#15500,#15612,#15764,#15859,#15963,#16116,#16210,#16363,#16458,#16624,#16728,#16883,#16978,#17131,#17225,#17369,#17463,#17615,#17709,#17861,#17955,#18104,#18199,#18352,#18446,#18557,#18713,#21073,#21144,#21215,#21286,#21357,#21448,#21537,#21626,#21715,#21804,#21903,#22047,#22142,#22286,#22380,#22489,#22597,#22701,#22854,#22949,#23101,#23196,#23340,#23434,#23578,#23673,#23817,#23911,#24028,#24142,#24246,#24355,#24504,#24599,#24711,#24863,#24958,#25062,#25215,#25309,#25462,#25557,#25706,#25800,#25955,#26050,#26203,#26297,#26441,#26535,#26687,#26781,#26933,#27027,#27176,#27271,#27424,#27518,#27629,#27785),#9157),\n",
       " #12015=IfcRelDefinesByType('2McTMWPPnWcLY_7w4bU6l0',#12,$,$,(#11873,#12935,#13044,#13152,#13256,#13504,#14335,#14812,#14929,#15043,#15147,#15256,#15500,#15612,#15859,#16210,#16728,#17955,#18446,#18557,#21903,#22380,#22489,#22597,#22701,#22949,#23434,#23911,#24028,#24142,#24246,#24355,#24599,#24711,#24958,#25309,#25800,#27027,#27518,#27629),#12000),\n",
       " #15152=IfcRelAssociatesMaterial('04F1OacTbSS8uB2HixIaSU',#12,$,$,(#15147),#15151),\n",
       " #15156=IfcRelConnectsPathElements('2LiARU0Nu0B1c38lSuEyQD',#12,$,$,$,#15147,#14574,(),(),.ATSTART.,.ATPATH.),\n",
       " #15170=IfcRelDefinesByProperties('0nEsg1XQOVXeZc_lqMgwB6',#12,$,$,(#15147),#15165),\n",
       " #15185=IfcRelDefinesByProperties('1ddHQJ7$o8QrMs8VfiUVsG',#12,$,$,(#15147),#15183),\n",
       " #15265=IfcRelConnectsPathElements('1Zbk313CFD5ck_DrSEfsnV',#12,$,$,$,#15256,#15147,(),(),.ATEND.,.ATSTART.),\n",
       " #15621=IfcRelConnectsPathElements('3tf_7PDpm9BiExkjyrSSb7',#12,$,$,$,#15612,#15147,(),(),.ATSTART.,.ATEND.),\n",
       " #159834=IfcRelSpaceBoundary('3vJqCS0$GyAIx_u11eDc4k',#12,'2ndLevel','2a',#20364,#15147,#159833,.PHYSICAL.,.EXTERNAL.),\n",
       " #160118=IfcRelSpaceBoundary('1JB8_OYkxccH345eOS$8xk',#12,'2ndLevel','2a',#20513,#15147,#160117,.PHYSICAL.,.EXTERNAL.)]"
      ]
     },
     "execution_count": 196,
     "metadata": {},
     "output_type": "execute_result"
    }
   ],
   "source": [
    "m.get_inverse(wand)"
   ]
  },
  {
   "cell_type": "code",
   "execution_count": null,
   "metadata": {},
   "outputs": [
    {
     "data": {
      "image/svg+xml": "<?xml version=\"1.0\" encoding=\"UTF-8\" standalone=\"no\"?>\n<!DOCTYPE svg PUBLIC \"-//W3C//DTD SVG 1.1//EN\"\n \"http://www.w3.org/Graphics/SVG/1.1/DTD/svg11.dtd\">\n<!-- Generated by graphviz version 2.42.3 (20191010.1750)\n -->\n<!-- Title: %3 Pages: 1 -->\n<svg width=\"977pt\" height=\"385pt\"\n viewBox=\"0.00 0.00 977.00 385.00\" xmlns=\"http://www.w3.org/2000/svg\" xmlns:xlink=\"http://www.w3.org/1999/xlink\">\n<g id=\"graph0\" class=\"graph\" transform=\"scale(1 1) rotate(0) translate(4 381)\">\n<title>%3</title>\n<polygon fill=\"white\" stroke=\"transparent\" points=\"-4,4 -4,-381 973,-381 973,4 -4,4\"/>\n<!-- 1 -->\n<g id=\"node1\" class=\"node\">\n<title>1</title>\n<polygon fill=\"none\" stroke=\"black\" points=\"861,-269.5 861,-376.5 956,-376.5 956,-269.5 861,-269.5\"/>\n<text text-anchor=\"middle\" x=\"908.5\" y=\"-366.1\" font-family=\"Arial\" font-size=\"8.00\">#1 </text>\n<text text-anchor=\"middle\" x=\"908.5\" y=\"-357.1\" font-family=\"Arial\" font-size=\"8.00\">(IfcPerson) </text>\n<text text-anchor=\"start\" x=\"869\" y=\"-339.1\" font-family=\"Arial\" font-size=\"8.00\">Identification : None </text>\n<text text-anchor=\"start\" x=\"869\" y=\"-330.1\" font-family=\"Arial\" font-size=\"8.00\">FamilyName : None </text>\n<text text-anchor=\"start\" x=\"869\" y=\"-321.1\" font-family=\"Arial\" font-size=\"8.00\">GivenName : KHH </text>\n<text text-anchor=\"start\" x=\"869\" y=\"-312.1\" font-family=\"Arial\" font-size=\"8.00\">MiddleNames : None </text>\n<text text-anchor=\"start\" x=\"869\" y=\"-303.1\" font-family=\"Arial\" font-size=\"8.00\">PrefixTitles : None </text>\n<text text-anchor=\"start\" x=\"869\" y=\"-294.1\" font-family=\"Arial\" font-size=\"8.00\">SuffixTitles : None </text>\n<text text-anchor=\"start\" x=\"869\" y=\"-285.1\" font-family=\"Arial\" font-size=\"8.00\">Roles : None </text>\n<text text-anchor=\"start\" x=\"869\" y=\"-276.1\" font-family=\"Arial\" font-size=\"8.00\">Addresses : None </text>\n</g>\n<!-- 7 -->\n<g id=\"node2\" class=\"node\">\n<title>7</title>\n<polygon fill=\"none\" stroke=\"black\" points=\"552,-188 552,-232 673,-232 673,-188 552,-188\"/>\n<text text-anchor=\"middle\" x=\"612.5\" y=\"-221.6\" font-family=\"Arial\" font-size=\"8.00\">#7 </text>\n<text text-anchor=\"middle\" x=\"612.5\" y=\"-212.6\" font-family=\"Arial\" font-size=\"8.00\">(IfcPersonAndOrganization) </text>\n<text text-anchor=\"start\" x=\"560\" y=\"-194.6\" font-family=\"Arial\" font-size=\"8.00\">Roles : None </text>\n</g>\n<!-- 7&#45;&gt;1 -->\n<g id=\"edge1\" class=\"edge\">\n<title>7&#45;&gt;1</title>\n<path fill=\"none\" stroke=\"black\" d=\"M670.88,-232.06C723.11,-252.13 799.75,-281.59 851.53,-301.49\"/>\n<polygon fill=\"black\" stroke=\"black\" points=\"850.31,-304.77 860.9,-305.09 852.82,-298.23 850.31,-304.77\"/>\n<text text-anchor=\"middle\" x=\"791.5\" y=\"-294.6\" font-family=\"Arial\" font-size=\"8.00\">ThePerson</text>\n</g>\n<!-- 3 -->\n<g id=\"node3\" class=\"node\">\n<title>3</title>\n<polygon fill=\"none\" stroke=\"black\" points=\"860,-170 860,-250 957,-250 957,-170 860,-170\"/>\n<text text-anchor=\"middle\" x=\"908.5\" y=\"-239.6\" font-family=\"Arial\" font-size=\"8.00\">#3 </text>\n<text text-anchor=\"middle\" x=\"908.5\" y=\"-230.6\" font-family=\"Arial\" font-size=\"8.00\">(IfcOrganization) </text>\n<text text-anchor=\"start\" x=\"868\" y=\"-212.6\" font-family=\"Arial\" font-size=\"8.00\">Identification : None </text>\n<text text-anchor=\"start\" x=\"868\" y=\"-203.6\" font-family=\"Arial\" font-size=\"8.00\">Name : Nicht definiert </text>\n<text text-anchor=\"start\" x=\"868\" y=\"-194.6\" font-family=\"Arial\" font-size=\"8.00\">Description : None </text>\n<text text-anchor=\"start\" x=\"868\" y=\"-185.6\" font-family=\"Arial\" font-size=\"8.00\">Roles : None </text>\n<text text-anchor=\"start\" x=\"868\" y=\"-176.6\" font-family=\"Arial\" font-size=\"8.00\">Addresses : None </text>\n</g>\n<!-- 7&#45;&gt;3 -->\n<g id=\"edge2\" class=\"edge\">\n<title>7&#45;&gt;3</title>\n<path fill=\"none\" stroke=\"black\" d=\"M673.35,-210C724.87,-210 798.74,-210 849.67,-210\"/>\n<polygon fill=\"black\" stroke=\"black\" points=\"849.85,-213.5 859.85,-210 849.85,-206.5 849.85,-213.5\"/>\n<text text-anchor=\"middle\" x=\"791.5\" y=\"-212.6\" font-family=\"Arial\" font-size=\"8.00\">TheOrganization</text>\n</g>\n<!-- 12 -->\n<g id=\"node4\" class=\"node\">\n<title>12</title>\n<polygon fill=\"none\" stroke=\"black\" points=\"253,-90.5 253,-179.5 387,-179.5 387,-90.5 253,-90.5\"/>\n<text text-anchor=\"middle\" x=\"320\" y=\"-169.1\" font-family=\"Arial\" font-size=\"8.00\">#12 </text>\n<text text-anchor=\"middle\" x=\"320\" y=\"-160.1\" font-family=\"Arial\" font-size=\"8.00\">(IfcOwnerHistory) </text>\n<text text-anchor=\"start\" x=\"261\" y=\"-142.1\" font-family=\"Arial\" font-size=\"8.00\">State : None </text>\n<text text-anchor=\"start\" x=\"261\" y=\"-133.1\" font-family=\"Arial\" font-size=\"8.00\">ChangeAction : ADDED </text>\n<text text-anchor=\"start\" x=\"261\" y=\"-124.1\" font-family=\"Arial\" font-size=\"8.00\">LastModifiedDate : None </text>\n<text text-anchor=\"start\" x=\"261\" y=\"-115.1\" font-family=\"Arial\" font-size=\"8.00\">LastModifyingUser : None </text>\n<text text-anchor=\"start\" x=\"261\" y=\"-106.1\" font-family=\"Arial\" font-size=\"8.00\">LastModifyingApplication : None </text>\n<text text-anchor=\"start\" x=\"261\" y=\"-97.1\" font-family=\"Arial\" font-size=\"8.00\">CreationDate : 1485162052 </text>\n</g>\n<!-- 12&#45;&gt;7 -->\n<g id=\"edge3\" class=\"edge\">\n<title>12&#45;&gt;7</title>\n<path fill=\"none\" stroke=\"black\" d=\"M387.28,-152.11C433.56,-164.06 495.2,-179.97 542.14,-192.09\"/>\n<polygon fill=\"black\" stroke=\"black\" points=\"541.36,-195.51 551.92,-194.62 543.11,-188.73 541.36,-195.51\"/>\n<text text-anchor=\"middle\" x=\"438.5\" y=\"-174.6\" font-family=\"Arial\" font-size=\"8.00\">OwningUser</text>\n</g>\n<!-- 11 -->\n<g id=\"node6\" class=\"node\">\n<title>11</title>\n<polygon fill=\"none\" stroke=\"black\" points=\"490,-93 490,-155 735,-155 735,-93 490,-93\"/>\n<text text-anchor=\"middle\" x=\"612.5\" y=\"-144.6\" font-family=\"Arial\" font-size=\"8.00\">#11 </text>\n<text text-anchor=\"middle\" x=\"612.5\" y=\"-135.6\" font-family=\"Arial\" font-size=\"8.00\">(IfcApplication) </text>\n<text text-anchor=\"start\" x=\"498\" y=\"-117.6\" font-family=\"Arial\" font-size=\"8.00\">Version : 20.0.0 </text>\n<text text-anchor=\"start\" x=\"498\" y=\"-108.6\" font-family=\"Arial\" font-size=\"8.00\">ApplicationFullName : ARCHICAD&#45;64 </text>\n<text text-anchor=\"start\" x=\"498\" y=\"-99.6\" font-family=\"Arial\" font-size=\"8.00\">ApplicationIdentifier : IFC2x3 add&#45;on version: 4020 GER FULL </text>\n</g>\n<!-- 12&#45;&gt;11 -->\n<g id=\"edge5\" class=\"edge\">\n<title>12&#45;&gt;11</title>\n<path fill=\"none\" stroke=\"black\" d=\"M387.28,-132.49C414.71,-131.45 447.53,-130.21 479.49,-129\"/>\n<polygon fill=\"black\" stroke=\"black\" points=\"479.97,-132.48 489.83,-128.61 479.7,-125.49 479.97,-132.48\"/>\n<text text-anchor=\"middle\" x=\"438.5\" y=\"-133.6\" font-family=\"Arial\" font-size=\"8.00\">OwningApplication</text>\n</g>\n<!-- 10 -->\n<g id=\"node5\" class=\"node\">\n<title>10</title>\n<polygon fill=\"none\" stroke=\"black\" points=\"848,-71 848,-151 969,-151 969,-71 848,-71\"/>\n<text text-anchor=\"middle\" x=\"908.5\" y=\"-140.6\" font-family=\"Arial\" font-size=\"8.00\">#10 </text>\n<text text-anchor=\"middle\" x=\"908.5\" y=\"-131.6\" font-family=\"Arial\" font-size=\"8.00\">(IfcOrganization) </text>\n<text text-anchor=\"start\" x=\"856\" y=\"-113.6\" font-family=\"Arial\" font-size=\"8.00\">Identification : GS </text>\n<text text-anchor=\"start\" x=\"856\" y=\"-104.6\" font-family=\"Arial\" font-size=\"8.00\">Name : GRAPHISOFT </text>\n<text text-anchor=\"start\" x=\"856\" y=\"-95.6\" font-family=\"Arial\" font-size=\"8.00\">Description : GRAPHISOFT </text>\n<text text-anchor=\"start\" x=\"856\" y=\"-86.6\" font-family=\"Arial\" font-size=\"8.00\">Roles : None </text>\n<text text-anchor=\"start\" x=\"856\" y=\"-77.6\" font-family=\"Arial\" font-size=\"8.00\">Addresses : None </text>\n</g>\n<!-- 11&#45;&gt;10 -->\n<g id=\"edge4\" class=\"edge\">\n<title>11&#45;&gt;10</title>\n<path fill=\"none\" stroke=\"black\" d=\"M735.2,-118.62C770.12,-117.07 806.99,-115.44 837.63,-114.09\"/>\n<polygon fill=\"black\" stroke=\"black\" points=\"837.94,-117.58 847.77,-113.64 837.63,-110.59 837.94,-117.58\"/>\n<text text-anchor=\"middle\" x=\"791.5\" y=\"-119.6\" font-family=\"Arial\" font-size=\"8.00\">ApplicationDeveloper</text>\n</g>\n<!-- 15152 -->\n<g id=\"node7\" class=\"node\">\n<title>15152</title>\n<polygon fill=\"none\" stroke=\"black\" points=\"0,-54 0,-116 159,-116 159,-54 0,-54\"/>\n<text text-anchor=\"middle\" x=\"79.5\" y=\"-105.6\" font-family=\"Arial\" font-size=\"8.00\">#15152 </text>\n<text text-anchor=\"middle\" x=\"79.5\" y=\"-96.6\" font-family=\"Arial\" font-size=\"8.00\">(IfcRelAssociatesMaterial) </text>\n<text text-anchor=\"start\" x=\"8\" y=\"-78.6\" font-family=\"Arial\" font-size=\"8.00\">GlobalId : 04F1OacTbSS8uB2HixIaSU </text>\n<text text-anchor=\"start\" x=\"8\" y=\"-69.6\" font-family=\"Arial\" font-size=\"8.00\">Name : None </text>\n<text text-anchor=\"start\" x=\"8\" y=\"-60.6\" font-family=\"Arial\" font-size=\"8.00\">Description : None </text>\n</g>\n<!-- 15152&#45;&gt;12 -->\n<g id=\"edge6\" class=\"edge\">\n<title>15152&#45;&gt;12</title>\n<path fill=\"none\" stroke=\"black\" d=\"M159.25,-101.51C186.08,-107.14 216.02,-113.41 242.66,-118.99\"/>\n<polygon fill=\"black\" stroke=\"black\" points=\"242.18,-122.47 252.69,-121.1 243.62,-115.62 242.18,-122.47\"/>\n<text text-anchor=\"middle\" x=\"206\" y=\"-117.6\" font-family=\"Arial\" font-size=\"8.00\">OwnerHistory</text>\n</g>\n<!-- 15151 -->\n<g id=\"node9\" class=\"node\">\n<title>15151</title>\n<polygon fill=\"none\" stroke=\"black\" points=\"254,-0.5 254,-71.5 386,-71.5 386,-0.5 254,-0.5\"/>\n<text text-anchor=\"middle\" x=\"320\" y=\"-61.1\" font-family=\"Arial\" font-size=\"8.00\">#15151 </text>\n<text text-anchor=\"middle\" x=\"320\" y=\"-52.1\" font-family=\"Arial\" font-size=\"8.00\">(IfcMaterialLayerSetUsage) </text>\n<text text-anchor=\"start\" x=\"262\" y=\"-34.1\" font-family=\"Arial\" font-size=\"8.00\">LayerSetDirection : AXIS2 </text>\n<text text-anchor=\"start\" x=\"262\" y=\"-25.1\" font-family=\"Arial\" font-size=\"8.00\">DirectionSense : NEGATIVE </text>\n<text text-anchor=\"start\" x=\"262\" y=\"-16.1\" font-family=\"Arial\" font-size=\"8.00\">OffsetFromReferenceLine : 0.0 </text>\n<text text-anchor=\"start\" x=\"262\" y=\"-7.1\" font-family=\"Arial\" font-size=\"8.00\">ReferenceExtent : None </text>\n</g>\n<!-- 15152&#45;&gt;15151 -->\n<g id=\"edge8\" class=\"edge\">\n<title>15152&#45;&gt;15151</title>\n<path fill=\"none\" stroke=\"black\" d=\"M159.25,-68.82C186.45,-63.23 216.82,-56.99 243.73,-51.46\"/>\n<polygon fill=\"black\" stroke=\"black\" points=\"244.76,-54.82 253.86,-49.38 243.36,-47.97 244.76,-54.82\"/>\n<text text-anchor=\"middle\" x=\"206\" y=\"-67.6\" font-family=\"Arial\" font-size=\"8.00\">RelatingMaterial</text>\n</g>\n<!-- 11894 -->\n<g id=\"node8\" class=\"node\">\n<title>11894</title>\n<polygon fill=\"none\" stroke=\"black\" points=\"523,-9.5 523,-62.5 702,-62.5 702,-9.5 523,-9.5\"/>\n<text text-anchor=\"middle\" x=\"612.5\" y=\"-52.1\" font-family=\"Arial\" font-size=\"8.00\">#11894 </text>\n<text text-anchor=\"middle\" x=\"612.5\" y=\"-43.1\" font-family=\"Arial\" font-size=\"8.00\">(IfcMaterialLayerSet) </text>\n<text text-anchor=\"start\" x=\"531\" y=\"-25.1\" font-family=\"Arial\" font-size=\"8.00\">LayerSetName : Stahlbeton 2816491304 0.2 </text>\n<text text-anchor=\"start\" x=\"531\" y=\"-16.1\" font-family=\"Arial\" font-size=\"8.00\">Description : None </text>\n</g>\n<!-- 15151&#45;&gt;11894 -->\n<g id=\"edge7\" class=\"edge\">\n<title>15151&#45;&gt;11894</title>\n<path fill=\"none\" stroke=\"black\" d=\"M386.19,-36C423.44,-36 470.9,-36 512.64,-36\"/>\n<polygon fill=\"black\" stroke=\"black\" points=\"512.84,-39.5 522.84,-36 512.84,-32.5 512.84,-39.5\"/>\n<text text-anchor=\"middle\" x=\"438.5\" y=\"-38.6\" font-family=\"Arial\" font-size=\"8.00\">ForLayerSet</text>\n</g>\n</g>\n</svg>\n",
      "text/plain": [
       "<graphviz.dot.Digraph at 0x7fbd01f03390>"
      ]
     },
     "execution_count": 199,
     "metadata": {},
     "output_type": "execute_result"
    }
   ],
   "source": [
    "graph = IfcGraphViz.IfcGraphViz().plot_graph(m, m.by_id(15152), forward=10)\n",
    "graph"
   ]
  },
  {
   "cell_type": "code",
   "execution_count": null,
   "metadata": {},
   "outputs": [
    {
     "data": {
      "text/plain": [
       "#11894=IfcMaterialLayerSet((#11893),'Stahlbeton 2816491304 0.2',$)"
      ]
     },
     "execution_count": 200,
     "metadata": {},
     "output_type": "execute_result"
    }
   ],
   "source": [
    "schichten = m.by_id(11894)\n",
    "schichten"
   ]
  },
  {
   "cell_type": "code",
   "execution_count": null,
   "metadata": {},
   "outputs": [
    {
     "data": {
      "text/plain": [
       "#11877=IfcMaterial('Stahlbeton 2816491304',$,$)"
      ]
     },
     "execution_count": 202,
     "metadata": {},
     "output_type": "execute_result"
    }
   ],
   "source": [
    "m.by_id(11877)"
   ]
  },
  {
   "cell_type": "code",
   "execution_count": null,
   "metadata": {},
   "outputs": [
    {
     "data": {
      "text/html": [
       "\n",
       "        <iframe\n",
       "            width=\"100%\"\n",
       "            height=\"500px\"\n",
       "            src=\"https://standards.buildingsmart.org/IFC/RELEASE/IFC2x3/TC1/HTML/ifcproductextension/lexical/ifcrelassociatesmaterial.htm\"\n",
       "            frameborder=\"0\"\n",
       "            allowfullscreen\n",
       "        ></iframe>\n",
       "        "
      ],
      "text/plain": [
       "<IPython.lib.display.IFrame at 0x7fbd35b6a7d0>"
      ]
     },
     "execution_count": 187,
     "metadata": {},
     "output_type": "execute_result"
    }
   ],
   "source": [
    "IfcHelp.getHelp3(\"IfcRelAssociatesMaterial\")"
   ]
  },
  {
   "cell_type": "code",
   "execution_count": null,
   "metadata": {},
   "outputs": [],
   "source": [
    "ifcopenshell.util.element.get_psets(wand)"
   ]
  },
  {
   "cell_type": "code",
   "execution_count": null,
   "metadata": {},
   "outputs": [],
   "source": [
    "for inv in m.get_inverse(wand):\n",
    "    if inv.is_a() == \"IfcRelAssociatesMaterial\":\n",
    "        print (inv)\n",
    "        mat_assoc = inv"
   ]
  },
  {
   "cell_type": "code",
   "execution_count": null,
   "metadata": {},
   "outputs": [],
   "source": [
    "IfcHelp.getHelp3(\"IfcRelAssociatesMaterial\")"
   ]
  },
  {
   "cell_type": "code",
   "execution_count": null,
   "metadata": {},
   "outputs": [],
   "source": [
    "mat_assoc.RelatingMaterial.ForLayerSet.MaterialLayers[0].Material"
   ]
  },
  {
   "cell_type": "code",
   "execution_count": null,
   "metadata": {},
   "outputs": [
    {
     "name": "stdout",
     "output_type": "stream",
     "text": [
      "Gesamtvolument: 463.63364507416964\n"
     ]
    }
   ],
   "source": [
    "gesamtvolumen = 0\n",
    "for w in ausssenwaende:\n",
    "    psets = ifcopenshell.util.element.get_psets(w)\n",
    "    for psetname, pset_dict in psets.items():\n",
    "        for name, value in pset_dict.items():\n",
    "            # print (f\"{name}: {value}\")\n",
    "            if name == \"NetVolume\":\n",
    "                gesamtvolumen += float(value)\n",
    "print (f\"Gesamtvolumen: {gesamtvolumen}\")               "
   ]
  }
 ],
 "metadata": {
  "kernelspec": {
   "display_name": "Python 3.10.6 64-bit",
   "language": "python",
   "name": "python3"
  },
  "language_info": {
   "codemirror_mode": {
    "name": "ipython",
    "version": 3
   },
   "file_extension": ".py",
   "mimetype": "text/x-python",
   "name": "python",
   "nbconvert_exporter": "python",
   "pygments_lexer": "ipython3",
   "version": "3.10.6"
  },
  "vscode": {
   "interpreter": {
    "hash": "5b9757e1fd56148ee0e0fb9051a8b94223b28e388216e668ac3a3cb746504a5c"
   }
  }
 },
 "nbformat": 4,
 "nbformat_minor": 4
}
