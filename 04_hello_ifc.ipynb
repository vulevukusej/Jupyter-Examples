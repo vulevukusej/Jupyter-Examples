{
 "cells": [
  {
   "cell_type": "markdown",
   "metadata": {},
   "source": [
    "# The `model` object in IfcOpenShell\n",
    "\n",
    "## Loading a model\n",
    "Before loading a model into the notebook we have to import the ifcopenshell module:"
   ]
  },
  {
   "cell_type": "code",
   "execution_count": null,
   "metadata": {},
   "outputs": [],
   "source": [
    "import ifcopenshell"
   ]
  },
  {
   "cell_type": "markdown",
   "metadata": {},
   "source": [
    "We now can open a model. For your convinience a few models are provided in the `../data` path of this notebook collection. Let's start with a simple \"hello Wall\" example."
   ]
  },
  {
   "cell_type": "code",
   "execution_count": null,
   "metadata": {},
   "outputs": [],
   "source": [
    "model = ifcopenshell.open(\"data/hello_reiff_2021.ifc\")"
   ]
  },
  {
   "cell_type": "markdown",
   "metadata": {},
   "source": [
    "Immediately after you loaded the model the Python interpreter holds a variable in memory that allows you to access the model contents:\n",
    "Notice, how \n",
    "```python"
   ]
  },
  {
   "cell_type": "code",
   "execution_count": null,
   "metadata": {},
   "outputs": [],
   "source": [
    "project = model.by_type(\"IfcProject\")\n",
    "print ( project)"
   ]
  },
  {
   "cell_type": "markdown",
   "metadata": {},
   "source": [
    "prints out the SPFF line \n",
    "```\n",
    "[#1=IfcProject('0YvctVUKr0kugbFTf53O9L',#2,'Hello wall project','Simple wall with door',$,$,$,(#20),#7)]\n",
    "```\n",
    "surrounded by `[` `]`. This is the common representation of a python `list` object, see [here](https://docs.python.org/3/tutorial/introduction.html#lists). In order to access some of the attributes of we first need to access the first (and in case of `IfcProject` only) element in that list by using th `[index]` operator:"
   ]
  },
  {
   "cell_type": "code",
   "execution_count": null,
   "metadata": {},
   "outputs": [],
   "source": [
    "project = model.by_type(\"IfcProject\")\n",
    "print (project[0])"
   ]
  },
  {
   "cell_type": "markdown",
   "metadata": {},
   "source": [
    "Which will get us the same SPFF line \n",
    "```\n",
    "#1=IfcProject('0YvctVUKr0kugbFTf53O9L',#2,'Hello wall project','Simple wall with door',$,$,$,(#20),#7)\n",
    "```\n",
    "as above except the square brackets `[]`. This actually is a __string representation__ of an object instance, in this case, an instance of a `IfcProject` ENTITY.\n",
    "\n",
    "In fact, the `model` variable offers a number of ways to access model contents:\n",
    "\n",
    "## Accessing all instances of an entity - the `by_type()` function\n",
    "lets you access all entities of a particular IFC ENTITY definition as listed in the [specification](http://www.buildingsmart-tech.org/ifc/IFC4/final/html/index.htm). Note that you can use the function to get __subtypes__ of certain entities:\n"
   ]
  },
  {
   "cell_type": "markdown",
   "metadata": {},
   "source": [
    "walls = model.by_type(\"IfcWall\")\n",
    "print (walls)"
   ]
  },
  {
   "cell_type": "markdown",
   "metadata": {},
   "source": [
    "which is an instance of [`IfcWallStandardCase`](http://www.buildingsmart-tech.org/ifc/IFC2x4/alpha/html/ifcsharedbldgelements/lexical/ifcwallstandardcase.htm), which is a subtype of [`IfcWall`](http://www.buildingsmart-tech.org/ifc/IFC2x4/alpha/html/ifcsharedbldgelements/lexical/ifcwall.htm). This also means, that you can access e.g. all subtypes of [`IfcProduct`](http://www.buildingsmart-tech.org/ifc/IFC2x3/TC1/html/ifckernel/lexical/ifcproduct.htm) by"
   ]
  },
  {
   "cell_type": "code",
   "execution_count": null,
   "metadata": {},
   "outputs": [],
   "source": [
    "products = model.by_type(\"IfcProduct\")\n",
    "print (products)\n"
   ]
  },
  {
   "cell_type": "markdown",
   "metadata": {},
   "source": [
    "including the [`IfcOpeningElement`](http://www.buildingsmart-tech.org/ifc/IFC2x3/TC1/html/ifcproductextension/lexical/ifcopeningelement.htm), while"
   ]
  },
  {
   "cell_type": "code",
   "execution_count": null,
   "metadata": {},
   "outputs": [],
   "source": [
    "products = model.by_type(\"IfcBuildingElement\")\n",
    "print (products)"
   ]
  },
  {
   "cell_type": "markdown",
   "metadata": {},
   "source": [
    "just returns"
   ]
  },
  {
   "cell_type": "markdown",
   "metadata": {},
   "source": [
    "```[\n",
    "#45=IfcWallStandardCase('3vB2YO$MX4xv5uCqZZG05x',#2,'Wall xyz','Description of Wall',$,#46,#51,$),\n",
    "#124=IfcDoor('0LV8Pid0X3IA3jJLVDPidY',#2,'A common door','Description of a standard door',$,#125,#130,$,1.400,0.7)\n",
    "]\n",
    "```\n",
    "\n",
    "since the opening is not a subclass of `IfcBuildingElement`(http://www.buildingsmart-tech.org/ifc/IFC2x4/alpha/html/ifcproductextension/lexical/ifcbuildingelement.htm)."
   ]
  },
  {
   "cell_type": "markdown",
   "metadata": {},
   "source": [
    "Note:\n",
    "If this behavior is undesired, and you just want objects of exactly that type without its subclasess can easily filter the type of by using the `is_a()` function like so"
   ]
  },
  {
   "cell_type": "code",
   "execution_count": null,
   "metadata": {},
   "outputs": [],
   "source": [
    "products = model.by_type(\"IfcWall\")\n",
    "walls = []\n",
    "for product in products:\n",
    "    if product.is_a(\"IfcWall\"):\n",
    "        walls.append(product)"
   ]
  },
  {
   "cell_type": "markdown",
   "metadata": {},
   "source": [
    "The `for` ... `in` part is referred to as a loop. This structure will be used extensively, so please refer to [Python tutorial](https://docs.python.org/3/tutorial/controlflow.html#for-statements) to get the hang of it."
   ]
  },
  {
   "cell_type": "markdown",
   "metadata": {},
   "source": [
    "## The `by_id()` function\n",
    "lets you access object by their SPFF `#` id like so:"
   ]
  },
  {
   "cell_type": "code",
   "execution_count": null,
   "metadata": {},
   "outputs": [],
   "source": [
    "print (model.by_id(1))\n"
   ]
  },
  {
   "cell_type": "markdown",
   "metadata": {},
   "source": [
    "## The `by_guid()` function\n",
    "lets you access objects in the model by guid, e.g."
   ]
  },
  {
   "cell_type": "markdown",
   "metadata": {},
   "source": [
    "suppose we have the GUID of the project (example above)"
   ]
  },
  {
   "cell_type": "code",
   "execution_count": null,
   "metadata": {},
   "outputs": [],
   "source": [
    "project = model.by_guid('0YvctVUKr0kugbFTf53O9L')\n",
    "print (project.Name)"
   ]
  },
  {
   "cell_type": "code",
   "execution_count": null,
   "metadata": {},
   "outputs": [],
   "source": []
  }
 ],
 "metadata": {
  "kernelspec": {
   "display_name": "Python 3.10.6 64-bit",
   "language": "python",
   "name": "python3"
  },
  "language_info": {
   "codemirror_mode": {
    "name": "ipython",
    "version": 3
   },
   "file_extension": ".py",
   "mimetype": "text/x-python",
   "name": "python",
   "nbconvert_exporter": "python",
   "pygments_lexer": "ipython3",
   "version": "3.10.6"
  },
  "vscode": {
   "interpreter": {
    "hash": "5b9757e1fd56148ee0e0fb9051a8b94223b28e388216e668ac3a3cb746504a5c"
   }
  }
 },
 "nbformat": 4,
 "nbformat_minor": 4
}
